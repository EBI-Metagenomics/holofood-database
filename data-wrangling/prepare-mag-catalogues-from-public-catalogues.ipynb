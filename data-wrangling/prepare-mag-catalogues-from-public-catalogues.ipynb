{
 "cells": [
  {
   "cell_type": "code",
   "execution_count": 1,
   "id": "38b973df-9c9c-4fcf-b503-e4660b6b4a21",
   "metadata": {},
   "outputs": [],
   "source": [
    "import pandas as pd\n",
    "import numpy as np"
   ]
  },
  {
   "cell_type": "code",
   "execution_count": 30,
   "id": "7a8d043c-3af7-4b70-b4c9-61981683aced",
   "metadata": {},
   "outputs": [],
   "source": [
    "holofood_projects = [\"PRJEB39110\", \"PRJEB41323\", \"PRJEB41657\", \"PRJEB43098\", \"PRJEB45273\", \"PRJEB45274\", \"PRJEB46550\", \"PRJEB47609\", \"PRJEB47613\", \"PRJEB51815\", \"PRJEB52095\", \"PRJEB52139\", \"PRJEB55374\", \"PRJEB55375\", \"PRJEB55376\"]\n",
    "\n",
    "def get_erp_for_prj(prj):\n",
    "    return pd.read_xml(f\"https://www.ebi.ac.uk/ena/browser/api/xml/{prj}\", parser=\"etree\", xpath='.//IDENTIFIERS').SECONDARY_ID[0]\n",
    "\n",
    "holofood_erps = list(map(get_erp_for_prj, holofood_projects))"
   ]
  },
  {
   "cell_type": "code",
   "execution_count": 31,
   "id": "4d196351-1459-40a5-8e08-9916a212a752",
   "metadata": {},
   "outputs": [],
   "source": [
    "salmon_catalogue = pd.read_csv('salmon-genomes-all_metadata.tsv', delimiter='\\t')\n",
    "holofood_salmon_catalogue = salmon_catalogue[np.in1d(salmon_catalogue.Study_accession, holofood_erps)]\n",
    "holofood_salmon_catalogue.to_csv('holofood-salmon-catalogue-v1.tsv', sep='\\t')"
   ]
  },
  {
   "cell_type": "code",
   "execution_count": 32,
   "id": "8c3ce0a0-6ee8-4409-a3d9-9d61bb19bc52",
   "metadata": {},
   "outputs": [],
   "source": [
    "chicken_catalogue = pd.read_csv('chicken-genomes-all_metadata.tsv', delimiter='\\t')\n",
    "holofood_chicken_catalogue = chicken_catalogue[np.in1d(chicken_catalogue.Study_accession, holofood_erps)]\n",
    "holofood_chicken_catalogue.to_csv('holofood-chicken-catalogue-v1.tsv', sep='\\t')"
   ]
  },
  {
   "cell_type": "code",
   "execution_count": null,
   "id": "3f99f42e-f4a2-4f42-a8c3-337cd3a5f648",
   "metadata": {},
   "outputs": [],
   "source": []
  }
 ],
 "metadata": {
  "kernelspec": {
   "display_name": "Python 3 (ipykernel)",
   "language": "python",
   "name": "python3"
  },
  "language_info": {
   "codemirror_mode": {
    "name": "ipython",
    "version": 3
   },
   "file_extension": ".py",
   "mimetype": "text/x-python",
   "name": "python",
   "nbconvert_exporter": "python",
   "pygments_lexer": "ipython3",
   "version": "3.9.16"
  }
 },
 "nbformat": 4,
 "nbformat_minor": 5
}
