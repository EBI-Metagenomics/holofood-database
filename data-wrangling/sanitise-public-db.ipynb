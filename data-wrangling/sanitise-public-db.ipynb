{
 "cells": [
  {
   "cell_type": "code",
   "execution_count": 10,
   "id": "d723212d-0a53-4a6f-b0fe-0ddf471b6c05",
   "metadata": {},
   "outputs": [],
   "source": [
    "import sqlite3"
   ]
  },
  {
   "cell_type": "code",
   "execution_count": 11,
   "id": "da22610e-58ae-4d05-9269-4146e1a5a0a7",
   "metadata": {},
   "outputs": [],
   "source": [
    "!cp ../db.sqlite3 ./db_public.sqlite3"
   ]
  },
  {
   "cell_type": "code",
   "execution_count": 4,
   "id": "fbe93d51-b64d-43aa-84fa-67a40768a1ce",
   "metadata": {},
   "outputs": [],
   "source": [
    "con = sqlite3.connect(\"db_public.sqlite3\")"
   ]
  },
  {
   "cell_type": "code",
   "execution_count": 13,
   "id": "8407f4d9-1e0a-4745-97cd-ba609bdd6834",
   "metadata": {},
   "outputs": [],
   "source": [
    "con.execute('delete from auth_user')\n",
    "con.execute('delete from auth_user_groups')\n",
    "con.execute('delete from django_session')\n",
    "con.execute('delete from django_admin_log')\n",
    "con.execute('delete from holofood_analysissummary where is_published = 0')\n",
    "con.commit()"
   ]
  },
  {
   "cell_type": "code",
   "execution_count": null,
   "id": "91cdb004-d26c-4604-a0b8-9b6ca8f03749",
   "metadata": {},
   "outputs": [],
   "source": []
  }
 ],
 "metadata": {
  "kernelspec": {
   "display_name": "ds",
   "language": "python",
   "name": "ds"
  },
  "language_info": {
   "codemirror_mode": {
    "name": "ipython",
    "version": 3
   },
   "file_extension": ".py",
   "mimetype": "text/x-python",
   "name": "python",
   "nbconvert_exporter": "python",
   "pygments_lexer": "ipython3",
   "version": "3.9.7"
  }
 },
 "nbformat": 4,
 "nbformat_minor": 5
}
