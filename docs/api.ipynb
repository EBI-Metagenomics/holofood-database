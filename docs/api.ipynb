{
 "cells": [
  {
   "cell_type": "raw",
   "id": "34acb444-d7d0-48c2-b3be-f9fb760129ba",
   "metadata": {},
   "source": [
    "---\n",
    "title: \"API for Programmatic Access\"\n",
    "---"
   ]
  },
  {
   "cell_type": "markdown",
   "id": "6bb2a773-01ff-4baa-8eb2-d17c41365f7d",
   "metadata": {},
   "source": [
    "APIs (Application Programming Interfaces) allow programmatic access to data resources.\n",
    "If you need to fetch and analyse metadata for many Samples, \n",
    "you can write a script to fetch data in this way.\n",
    "\n",
    "The [HoloFood Data Portal API]() \n",
    "gives programmatic access to the HoloFood Samples and their metadata,\n",
    "as well as URLs for where datasets are stored in public archives."
   ]
  },
  {
   "cell_type": "markdown",
   "id": "62eebfb3-2a9e-45eb-a3b9-5bcc2c7d5a75",
   "metadata": {},
   "source": [
    "## Canonical URLs\n",
    "Throughout the API, `canonical_url`s are returned which point to the canonical database entry, \n",
    "i.e. the authoritative source,  for each data object.\n",
    "\n",
    "These are:\n",
    "\n",
    "- [BioSamples](https://www.ebi.ac.uk/biosamples) for Samples (both host-animal level and derived-extraction level).\n",
    "- The [European Nucleotide Archive Browser](https://www.ebi.ac.uk/ena/browser/home) for nucleotide sequencing data.\n",
    "- [MGnify](https://www.ebi.ac.uk/metagenomics) for metagenomic-derived analyses and MAGs (metagenome assembled genomes)\n",
    "- [MetaboLights](https://www.ebi.ac.uk/metabolights/) for metabolomic analyses\n",
    "- The websites of various partner institutions and registries where an [IRI](https://en.wikipedia.org/wiki/Internationalized_Resource_Identifier) has been supplied with a metadata entry.\n",
    "- The HoloFood Data Portal itself for \"Analysis Summaries\", which are documents hosted only by this website.\n",
    "- The HoloFood Data Portal itself for viral annotations"
   ]
  },
  {
   "cell_type": "markdown",
   "id": "8887bd4d-b898-4195-a616-947c112977f2",
   "metadata": {},
   "source": [
    "## API Endpoints and Playground\n",
    "\n",
    "The [\"Browsable API Playground\"]({{< var portal.root_url >}}/api) is the best place to discover the API.\n",
    "Find this under the `API` navigation item on the data portal.\n",
    "\n",
    "The browsable API lets you see the endpoints and their response schemas.\n",
    "Under an endpoint, press `Try it out` to see the output for a specific query.\n",
    "\n",
    "In brief, the top-level endpoints are:\n",
    "\n",
    "### `/api/samples`\n",
    "List samples, or fetch details about a specific sample (like its metadata). List all possible metadata markers (i.e. keys).\n",
    "\n",
    "### `/api/animals`\n",
    "List animals (hosts), or fetch details about a specific animal (like its metadata and derived samples).\n",
    "\n",
    "### `/api/analysis-summaries`\n",
    "List summary analyses published on the data portal.\n",
    "\n",
    "### `/api/genome-catalogues`\n",
    "List MAG catalogues, or fetch detail about a catalogue, or list the MAGs within a catalogue.\n",
    "\n",
    "### `/api/viral-catalogues`\n",
    "List Viral catalogues, or fetch detail about a catalogue, or list the fragments within a catalogue."
   ]
  },
  {
   "cell_type": "markdown",
   "id": "4ca1cf61-1618-4fc8-94ae-b32b742ff9dc",
   "metadata": {},
   "source": [
    "## Using the API\n",
    "### From the command line\n",
    "\n",
    "Use a command line tool like [cURL](https://curl.se/) to query the API.\n",
    "Responses are in [JSON](https://www.json.org/json-en.html) format.\n",
    "\n",
    "For example to list all samples:\n",
    "```bash\n",
    "curl {{< var portal.root_url >}}/api/samples\n",
    "```\n",
    "\n",
    "To find the `Stearic acid 18:0` data associated with Fatty Acids sample `SAMEA112949944`, we could (using [`jq`](https://stedolan.github.io/jq/) to handle JSON data on the command line):\n",
    "```bash\n",
    "curl {{< var portal.root_url >}}/api/samples/SAMEA112949944 | jq '.structured_metadata | .[] | select(.marker.name == \"Stearic acid 18:0\")'\n",
    "```\n",
    "and get\n",
    "```json\n",
    "{\n",
    "  \"marker\": {\n",
    "    \"name\": \"Stearic acid 18:0\",\n",
    "    \"type\": \"FATTY ACIDS MG\",\n",
    "    \"canonical_url\": null\n",
    "  },\n",
    "  \"measurement\": \"1,47\",\n",
    "  \"units\": \"mg/g\"\n",
    "}\n",
    "{\n",
    "  \"marker\": {\n",
    "    \"name\": \"Stearic acid 18:0\",\n",
    "    \"type\": \"FATTY ACIDS PERCENTAGE\",\n",
    "    \"canonical_url\": null\n",
    "  },\n",
    "  \"measurement\": \"1,47\",\n",
    "  \"units\": \"%\"\n",
    "}\n",
    "\n",
    "```"
   ]
  },
  {
   "cell_type": "markdown",
   "id": "04c33205-e6c3-41d1-a945-39d14ab4b1a0",
   "metadata": {},
   "source": [
    "### From Python\n",
    "More realistically, to fetch a list of samples as a [Pandas dataframe](https://pandas.pydata.org/)\n",
    "\n",
    ":::{.callout-tip}\n",
    "## Packages required\n",
    "```bash\n",
    "pip install requests pandas\n",
    "```\n",
    ":::"
   ]
  },
  {
   "cell_type": "code",
   "execution_count": 1,
   "id": "348b32db-2f27-493d-97d6-2a0c676c767e",
   "metadata": {},
   "outputs": [],
   "source": [
    "import requests\n",
    "import pandas as pd"
   ]
  },
  {
   "cell_type": "code",
   "execution_count": 3,
   "id": "4d0e5d7d-f579-4270-a4f0-425a98286b7e",
   "metadata": {},
   "outputs": [],
   "source": [
    "samples = requests.get('https://www.holofooddata.org/api/samples')"
   ]
  },
  {
   "cell_type": "code",
   "execution_count": 4,
   "id": "52d133e0-2bd5-4438-9989-f1790bab3e03",
   "metadata": {},
   "outputs": [
    {
     "data": {
      "text/html": [
       "<div>\n",
       "<style scoped>\n",
       "    .dataframe tbody tr th:only-of-type {\n",
       "        vertical-align: middle;\n",
       "    }\n",
       "\n",
       "    .dataframe tbody tr th {\n",
       "        vertical-align: top;\n",
       "    }\n",
       "\n",
       "    .dataframe thead th {\n",
       "        text-align: right;\n",
       "    }\n",
       "</style>\n",
       "<table border=\"1\" class=\"dataframe\">\n",
       "  <thead>\n",
       "    <tr style=\"text-align: right;\">\n",
       "      <th></th>\n",
       "      <th>accession</th>\n",
       "      <th>title</th>\n",
       "      <th>sample_type</th>\n",
       "      <th>animal</th>\n",
       "      <th>canonical_url</th>\n",
       "      <th>metagenomics_url</th>\n",
       "      <th>metabolomics_url</th>\n",
       "    </tr>\n",
       "  </thead>\n",
       "  <tbody>\n",
       "    <tr>\n",
       "      <th>0</th>\n",
       "      <td>SAMEA10104908</td>\n",
       "      <td>CA01.07F1a</td>\n",
       "      <td>metagenomic_assembly</td>\n",
       "      <td>SAMEA112905066</td>\n",
       "      <td>https://www.ebi.ac.uk/ena/browser/view/SAMEA10...</td>\n",
       "      <td>https://www.ebi.ac.uk/metagenomics/api/v1/samp...</td>\n",
       "      <td>None</td>\n",
       "    </tr>\n",
       "    <tr>\n",
       "      <th>1</th>\n",
       "      <td>SAMEA10104910</td>\n",
       "      <td>CA02.12F1a</td>\n",
       "      <td>metagenomic_assembly</td>\n",
       "      <td>SAMEA112904813</td>\n",
       "      <td>https://www.ebi.ac.uk/ena/browser/view/SAMEA10...</td>\n",
       "      <td>https://www.ebi.ac.uk/metagenomics/api/v1/samp...</td>\n",
       "      <td>None</td>\n",
       "    </tr>\n",
       "    <tr>\n",
       "      <th>2</th>\n",
       "      <td>SAMEA10104911</td>\n",
       "      <td>CA02.18F1a</td>\n",
       "      <td>metagenomic_assembly</td>\n",
       "      <td>SAMEA112904777</td>\n",
       "      <td>https://www.ebi.ac.uk/ena/browser/view/SAMEA10...</td>\n",
       "      <td>https://www.ebi.ac.uk/metagenomics/api/v1/samp...</td>\n",
       "      <td>None</td>\n",
       "    </tr>\n",
       "  </tbody>\n",
       "</table>\n",
       "</div>"
      ],
      "text/plain": [
       "       accession       title           sample_type          animal  \\\n",
       "0  SAMEA10104908  CA01.07F1a  metagenomic_assembly  SAMEA112905066   \n",
       "1  SAMEA10104910  CA02.12F1a  metagenomic_assembly  SAMEA112904813   \n",
       "2  SAMEA10104911  CA02.18F1a  metagenomic_assembly  SAMEA112904777   \n",
       "\n",
       "                                       canonical_url  \\\n",
       "0  https://www.ebi.ac.uk/ena/browser/view/SAMEA10...   \n",
       "1  https://www.ebi.ac.uk/ena/browser/view/SAMEA10...   \n",
       "2  https://www.ebi.ac.uk/ena/browser/view/SAMEA10...   \n",
       "\n",
       "                                    metagenomics_url metabolomics_url  \n",
       "0  https://www.ebi.ac.uk/metagenomics/api/v1/samp...             None  \n",
       "1  https://www.ebi.ac.uk/metagenomics/api/v1/samp...             None  \n",
       "2  https://www.ebi.ac.uk/metagenomics/api/v1/samp...             None  "
      ]
     },
     "execution_count": 4,
     "metadata": {},
     "output_type": "execute_result"
    }
   ],
   "source": [
    "samples_df = pd.json_normalize(samples.json()['items'])\n",
    "samples_df.head(3)"
   ]
  },
  {
   "cell_type": "markdown",
   "id": "f82eef63-2dea-4306-9357-5fb04a235e1b",
   "metadata": {},
   "source": [
    ":::{.callout-important}\n",
    "## Paginated data\n",
    "\n",
    "However... we haven't got all of the data. We only have one page.\n",
    "\n",
    "The `?page=` URL query parameter lets us retrieve subsequent pages.\n",
    ":::"
   ]
  },
  {
   "cell_type": "code",
   "execution_count": 5,
   "id": "7ad8fca1-ccf4-42a8-87cf-555c4e2429d4",
   "metadata": {},
   "outputs": [
    {
     "data": {
      "text/plain": [
       "100"
      ]
     },
     "execution_count": 5,
     "metadata": {},
     "output_type": "execute_result"
    }
   ],
   "source": [
    "len(samples_df)"
   ]
  },
  {
   "cell_type": "markdown",
   "id": "149c6a03-99f4-456b-9479-158aff8fd7a5",
   "metadata": {},
   "source": [
    "The API response does tell us how many items there are *in total*:"
   ]
  },
  {
   "cell_type": "code",
   "execution_count": 6,
   "id": "e50a3859-adb1-44a4-baaf-acc8ab2e28a9",
   "metadata": {},
   "outputs": [
    {
     "data": {
      "text/plain": [
       "9889"
      ]
     },
     "execution_count": 6,
     "metadata": {},
     "output_type": "execute_result"
    }
   ],
   "source": [
    "samples.json()['count']"
   ]
  },
  {
   "cell_type": "code",
   "execution_count": 7,
   "id": "0fdf8e89-7472-4899-ade2-6497e25307c6",
   "metadata": {},
   "outputs": [],
   "source": [
    "samples_endpoint_base = 'https://www.holofooddata.org/api/samples'"
   ]
  },
  {
   "cell_type": "code",
   "execution_count": 21,
   "id": "76268cc3-bc7f-4788-953a-9ed504cc18f3",
   "metadata": {},
   "outputs": [
    {
     "name": "stdout",
     "output_type": "stream",
     "text": [
      "Fetching page=1\n",
      "Fetching page=2\n",
      "Fetching page=3\n",
      "Fetching page=4\n",
      "Fetching page=5\n",
      "Fetching page=6\n",
      "Fetching page=7\n",
      "Fetching page=8\n",
      "Fetching page=9\n"
     ]
    }
   ],
   "source": [
    "page = 1\n",
    "\n",
    "# We will only fetch the first 10 pages for now...\n",
    "\n",
    "max_pages = 10\n",
    "\n",
    "while page and page < max_pages:\n",
    "    print(f'Fetching {page=}')\n",
    "    \n",
    "    samples_page = requests.get(f'{samples_endpoint_base}?{page=}').json()\n",
    "    samples_page_df = pd.json_normalize(samples_page['items'])\n",
    "    \n",
    "    if page == 1:\n",
    "        samples_df = samples_page_df\n",
    "    else:\n",
    "        samples_df = pd.concat([samples_df, samples_page_df])\n",
    "    page += 1\n",
    "    if len(samples_df) >= samples_page['count']:\n",
    "        page = False"
   ]
  },
  {
   "cell_type": "code",
   "execution_count": 10,
   "id": "b2affa8f-a330-4eb8-801c-7c363929f939",
   "metadata": {},
   "outputs": [
    {
     "data": {
      "text/plain": [
       "900"
      ]
     },
     "execution_count": 10,
     "metadata": {},
     "output_type": "execute_result"
    }
   ],
   "source": [
    "len(samples_df)"
   ]
  },
  {
   "cell_type": "markdown",
   "id": "35d9afa4-cdae-4be5-a25f-cb29dc4d5387",
   "metadata": {},
   "source": [
    "#### Find all *metagenomic assembly* samples:"
   ]
  },
  {
   "cell_type": "code",
   "execution_count": 13,
   "id": "7e90d3cf-1be5-4df0-b959-59f3cd40bc1e",
   "metadata": {},
   "outputs": [
    {
     "data": {
      "text/html": [
       "<div>\n",
       "<style scoped>\n",
       "    .dataframe tbody tr th:only-of-type {\n",
       "        vertical-align: middle;\n",
       "    }\n",
       "\n",
       "    .dataframe tbody tr th {\n",
       "        vertical-align: top;\n",
       "    }\n",
       "\n",
       "    .dataframe thead th {\n",
       "        text-align: right;\n",
       "    }\n",
       "</style>\n",
       "<table border=\"1\" class=\"dataframe\">\n",
       "  <thead>\n",
       "    <tr style=\"text-align: right;\">\n",
       "      <th></th>\n",
       "      <th>accession</th>\n",
       "      <th>title</th>\n",
       "      <th>sample_type</th>\n",
       "      <th>animal</th>\n",
       "      <th>canonical_url</th>\n",
       "      <th>metagenomics_url</th>\n",
       "      <th>metabolomics_url</th>\n",
       "    </tr>\n",
       "  </thead>\n",
       "  <tbody>\n",
       "    <tr>\n",
       "      <th>0</th>\n",
       "      <td>SAMEA10104908</td>\n",
       "      <td>CA01.07F1a</td>\n",
       "      <td>metagenomic_assembly</td>\n",
       "      <td>SAMEA112905066</td>\n",
       "      <td>https://www.ebi.ac.uk/ena/browser/view/SAMEA10...</td>\n",
       "      <td>https://www.ebi.ac.uk/metagenomics/api/v1/samp...</td>\n",
       "      <td>None</td>\n",
       "    </tr>\n",
       "    <tr>\n",
       "      <th>1</th>\n",
       "      <td>SAMEA10104910</td>\n",
       "      <td>CA02.12F1a</td>\n",
       "      <td>metagenomic_assembly</td>\n",
       "      <td>SAMEA112904813</td>\n",
       "      <td>https://www.ebi.ac.uk/ena/browser/view/SAMEA10...</td>\n",
       "      <td>https://www.ebi.ac.uk/metagenomics/api/v1/samp...</td>\n",
       "      <td>None</td>\n",
       "    </tr>\n",
       "    <tr>\n",
       "      <th>2</th>\n",
       "      <td>SAMEA10104911</td>\n",
       "      <td>CA02.18F1a</td>\n",
       "      <td>metagenomic_assembly</td>\n",
       "      <td>SAMEA112904777</td>\n",
       "      <td>https://www.ebi.ac.uk/ena/browser/view/SAMEA10...</td>\n",
       "      <td>https://www.ebi.ac.uk/metagenomics/api/v1/samp...</td>\n",
       "      <td>None</td>\n",
       "    </tr>\n",
       "    <tr>\n",
       "      <th>3</th>\n",
       "      <td>SAMEA10104912</td>\n",
       "      <td>CA03.10F1a</td>\n",
       "      <td>metagenomic_assembly</td>\n",
       "      <td>SAMEA112904752</td>\n",
       "      <td>https://www.ebi.ac.uk/ena/browser/view/SAMEA10...</td>\n",
       "      <td>https://www.ebi.ac.uk/metagenomics/api/v1/samp...</td>\n",
       "      <td>None</td>\n",
       "    </tr>\n",
       "    <tr>\n",
       "      <th>4</th>\n",
       "      <td>SAMEA10104914</td>\n",
       "      <td>CA04.10F1a</td>\n",
       "      <td>metagenomic_assembly</td>\n",
       "      <td>SAMEA112904915</td>\n",
       "      <td>https://www.ebi.ac.uk/ena/browser/view/SAMEA10...</td>\n",
       "      <td>https://www.ebi.ac.uk/metagenomics/api/v1/samp...</td>\n",
       "      <td>None</td>\n",
       "    </tr>\n",
       "    <tr>\n",
       "      <th>...</th>\n",
       "      <td>...</td>\n",
       "      <td>...</td>\n",
       "      <td>...</td>\n",
       "      <td>...</td>\n",
       "      <td>...</td>\n",
       "      <td>...</td>\n",
       "      <td>...</td>\n",
       "    </tr>\n",
       "    <tr>\n",
       "      <th>95</th>\n",
       "      <td>SAMEA112369857</td>\n",
       "      <td>SB11.04B1a</td>\n",
       "      <td>transcriptomic</td>\n",
       "      <td>SAMEA112949107</td>\n",
       "      <td>https://www.ebi.ac.uk/biosamples/SAMEA112369857</td>\n",
       "      <td>None</td>\n",
       "      <td>None</td>\n",
       "    </tr>\n",
       "    <tr>\n",
       "      <th>96</th>\n",
       "      <td>SAMEA112369858</td>\n",
       "      <td>SB11.05B1a</td>\n",
       "      <td>transcriptomic</td>\n",
       "      <td>SAMEA112949088</td>\n",
       "      <td>https://www.ebi.ac.uk/biosamples/SAMEA112369858</td>\n",
       "      <td>None</td>\n",
       "      <td>None</td>\n",
       "    </tr>\n",
       "    <tr>\n",
       "      <th>97</th>\n",
       "      <td>SAMEA112369859</td>\n",
       "      <td>SB11.11B1a</td>\n",
       "      <td>transcriptomic</td>\n",
       "      <td>SAMEA112949878</td>\n",
       "      <td>https://www.ebi.ac.uk/biosamples/SAMEA112369859</td>\n",
       "      <td>None</td>\n",
       "      <td>None</td>\n",
       "    </tr>\n",
       "    <tr>\n",
       "      <th>98</th>\n",
       "      <td>SAMEA112369860</td>\n",
       "      <td>SB11.12B1a</td>\n",
       "      <td>transcriptomic</td>\n",
       "      <td>SAMEA112948858</td>\n",
       "      <td>https://www.ebi.ac.uk/biosamples/SAMEA112369860</td>\n",
       "      <td>None</td>\n",
       "      <td>None</td>\n",
       "    </tr>\n",
       "    <tr>\n",
       "      <th>99</th>\n",
       "      <td>SAMEA112369861</td>\n",
       "      <td>SB11.13B1a</td>\n",
       "      <td>transcriptomic</td>\n",
       "      <td>SAMEA112948701</td>\n",
       "      <td>https://www.ebi.ac.uk/biosamples/SAMEA112369861</td>\n",
       "      <td>None</td>\n",
       "      <td>None</td>\n",
       "    </tr>\n",
       "  </tbody>\n",
       "</table>\n",
       "<p>900 rows × 7 columns</p>\n",
       "</div>"
      ],
      "text/plain": [
       "         accession       title           sample_type          animal  \\\n",
       "0    SAMEA10104908  CA01.07F1a  metagenomic_assembly  SAMEA112905066   \n",
       "1    SAMEA10104910  CA02.12F1a  metagenomic_assembly  SAMEA112904813   \n",
       "2    SAMEA10104911  CA02.18F1a  metagenomic_assembly  SAMEA112904777   \n",
       "3    SAMEA10104912  CA03.10F1a  metagenomic_assembly  SAMEA112904752   \n",
       "4    SAMEA10104914  CA04.10F1a  metagenomic_assembly  SAMEA112904915   \n",
       "..             ...         ...                   ...             ...   \n",
       "95  SAMEA112369857  SB11.04B1a        transcriptomic  SAMEA112949107   \n",
       "96  SAMEA112369858  SB11.05B1a        transcriptomic  SAMEA112949088   \n",
       "97  SAMEA112369859  SB11.11B1a        transcriptomic  SAMEA112949878   \n",
       "98  SAMEA112369860  SB11.12B1a        transcriptomic  SAMEA112948858   \n",
       "99  SAMEA112369861  SB11.13B1a        transcriptomic  SAMEA112948701   \n",
       "\n",
       "                                        canonical_url  \\\n",
       "0   https://www.ebi.ac.uk/ena/browser/view/SAMEA10...   \n",
       "1   https://www.ebi.ac.uk/ena/browser/view/SAMEA10...   \n",
       "2   https://www.ebi.ac.uk/ena/browser/view/SAMEA10...   \n",
       "3   https://www.ebi.ac.uk/ena/browser/view/SAMEA10...   \n",
       "4   https://www.ebi.ac.uk/ena/browser/view/SAMEA10...   \n",
       "..                                                ...   \n",
       "95    https://www.ebi.ac.uk/biosamples/SAMEA112369857   \n",
       "96    https://www.ebi.ac.uk/biosamples/SAMEA112369858   \n",
       "97    https://www.ebi.ac.uk/biosamples/SAMEA112369859   \n",
       "98    https://www.ebi.ac.uk/biosamples/SAMEA112369860   \n",
       "99    https://www.ebi.ac.uk/biosamples/SAMEA112369861   \n",
       "\n",
       "                                     metagenomics_url metabolomics_url  \n",
       "0   https://www.ebi.ac.uk/metagenomics/api/v1/samp...             None  \n",
       "1   https://www.ebi.ac.uk/metagenomics/api/v1/samp...             None  \n",
       "2   https://www.ebi.ac.uk/metagenomics/api/v1/samp...             None  \n",
       "3   https://www.ebi.ac.uk/metagenomics/api/v1/samp...             None  \n",
       "4   https://www.ebi.ac.uk/metagenomics/api/v1/samp...             None  \n",
       "..                                                ...              ...  \n",
       "95                                               None             None  \n",
       "96                                               None             None  \n",
       "97                                               None             None  \n",
       "98                                               None             None  \n",
       "99                                               None             None  \n",
       "\n",
       "[900 rows x 7 columns]"
      ]
     },
     "execution_count": 13,
     "metadata": {},
     "output_type": "execute_result"
    }
   ],
   "source": [
    "samples_df"
   ]
  },
  {
   "cell_type": "code",
   "execution_count": 16,
   "id": "6727da24-277c-4030-8302-526be2444633",
   "metadata": {},
   "outputs": [
    {
     "name": "stdout",
     "output_type": "stream",
     "text": [
      "458\n"
     ]
    },
    {
     "data": {
      "text/html": [
       "<div>\n",
       "<style scoped>\n",
       "    .dataframe tbody tr th:only-of-type {\n",
       "        vertical-align: middle;\n",
       "    }\n",
       "\n",
       "    .dataframe tbody tr th {\n",
       "        vertical-align: top;\n",
       "    }\n",
       "\n",
       "    .dataframe thead th {\n",
       "        text-align: right;\n",
       "    }\n",
       "</style>\n",
       "<table border=\"1\" class=\"dataframe\">\n",
       "  <thead>\n",
       "    <tr style=\"text-align: right;\">\n",
       "      <th></th>\n",
       "      <th>accession</th>\n",
       "      <th>title</th>\n",
       "      <th>sample_type</th>\n",
       "      <th>animal</th>\n",
       "      <th>canonical_url</th>\n",
       "      <th>metagenomics_url</th>\n",
       "      <th>metabolomics_url</th>\n",
       "    </tr>\n",
       "  </thead>\n",
       "  <tbody>\n",
       "    <tr>\n",
       "      <th>0</th>\n",
       "      <td>SAMEA10104908</td>\n",
       "      <td>CA01.07F1a</td>\n",
       "      <td>metagenomic_assembly</td>\n",
       "      <td>SAMEA112905066</td>\n",
       "      <td>https://www.ebi.ac.uk/ena/browser/view/SAMEA10...</td>\n",
       "      <td>https://www.ebi.ac.uk/metagenomics/api/v1/samp...</td>\n",
       "      <td>None</td>\n",
       "    </tr>\n",
       "    <tr>\n",
       "      <th>1</th>\n",
       "      <td>SAMEA10104910</td>\n",
       "      <td>CA02.12F1a</td>\n",
       "      <td>metagenomic_assembly</td>\n",
       "      <td>SAMEA112904813</td>\n",
       "      <td>https://www.ebi.ac.uk/ena/browser/view/SAMEA10...</td>\n",
       "      <td>https://www.ebi.ac.uk/metagenomics/api/v1/samp...</td>\n",
       "      <td>None</td>\n",
       "    </tr>\n",
       "    <tr>\n",
       "      <th>2</th>\n",
       "      <td>SAMEA10104911</td>\n",
       "      <td>CA02.18F1a</td>\n",
       "      <td>metagenomic_assembly</td>\n",
       "      <td>SAMEA112904777</td>\n",
       "      <td>https://www.ebi.ac.uk/ena/browser/view/SAMEA10...</td>\n",
       "      <td>https://www.ebi.ac.uk/metagenomics/api/v1/samp...</td>\n",
       "      <td>None</td>\n",
       "    </tr>\n",
       "  </tbody>\n",
       "</table>\n",
       "</div>"
      ],
      "text/plain": [
       "       accession       title           sample_type          animal  \\\n",
       "0  SAMEA10104908  CA01.07F1a  metagenomic_assembly  SAMEA112905066   \n",
       "1  SAMEA10104910  CA02.12F1a  metagenomic_assembly  SAMEA112904813   \n",
       "2  SAMEA10104911  CA02.18F1a  metagenomic_assembly  SAMEA112904777   \n",
       "\n",
       "                                       canonical_url  \\\n",
       "0  https://www.ebi.ac.uk/ena/browser/view/SAMEA10...   \n",
       "1  https://www.ebi.ac.uk/ena/browser/view/SAMEA10...   \n",
       "2  https://www.ebi.ac.uk/ena/browser/view/SAMEA10...   \n",
       "\n",
       "                                    metagenomics_url metabolomics_url  \n",
       "0  https://www.ebi.ac.uk/metagenomics/api/v1/samp...             None  \n",
       "1  https://www.ebi.ac.uk/metagenomics/api/v1/samp...             None  \n",
       "2  https://www.ebi.ac.uk/metagenomics/api/v1/samp...             None  "
      ]
     },
     "execution_count": 16,
     "metadata": {},
     "output_type": "execute_result"
    }
   ],
   "source": [
    "metagenome_assembly_samples = samples_df[samples_df.sample_type == 'metagenomic_assembly']\n",
    "print(len(metagenome_assembly_samples))\n",
    "metagenome_assembly_samples.head(3)"
   ]
  },
  {
   "cell_type": "markdown",
   "id": "12d8dd45-9858-47fc-9640-b3aec926b63c",
   "metadata": {},
   "source": [
    "## Filters using query parameters\n",
    "We didn't need to fetch all the samples to then select only the metagenomic ones. We can instead fetch only the metagenomic ones using a **query parameter filter**. (If you're familiar with SQL, this eventually maps to a `WHERE` clause on the database.)"
   ]
  },
  {
   "cell_type": "code",
   "execution_count": 19,
   "id": "9d6be665-1d53-427f-8b46-76ade135ad5a",
   "metadata": {},
   "outputs": [
    {
     "name": "stdout",
     "output_type": "stream",
     "text": [
      "Fetching page=1\n",
      "Fetching page=2\n",
      "Fetching page=3\n",
      "Fetching page=4\n",
      "Fetching page=5\n",
      "Fetching page=6\n",
      "Fetching page=7\n",
      "Fetching page=8\n",
      "Fetching page=9\n",
      "Fetching page=10\n",
      "Fetching page=11\n",
      "Fetching page=12\n",
      "Fetching page=13\n",
      "Fetching page=14\n"
     ]
    }
   ],
   "source": [
    "page = 1\n",
    "\n",
    "while page:\n",
    "    print(f'Fetching {page=}')\n",
    "    \n",
    "    mg_samples_page = requests.get(f'{samples_endpoint_base}?{page=}&sample_type=metagenomic_assembly').json()\n",
    "    mg_samples_page_df = pd.json_normalize(mg_samples_page['items'])\n",
    "    \n",
    "    if page == 1:\n",
    "        mg_samples_df = mg_samples_page_df\n",
    "    else:\n",
    "        mg_samples_df = pd.concat([mg_samples_df, mg_samples_page_df])\n",
    "    page += 1\n",
    "    if len(mg_samples_df) >= mg_samples_page['count']:\n",
    "        page = False"
   ]
  },
  {
   "cell_type": "code",
   "execution_count": 18,
   "id": "bd4b33e9-acd8-4370-896c-fdf09ecd662b",
   "metadata": {},
   "outputs": [
    {
     "data": {
      "text/html": [
       "<div>\n",
       "<style scoped>\n",
       "    .dataframe tbody tr th:only-of-type {\n",
       "        vertical-align: middle;\n",
       "    }\n",
       "\n",
       "    .dataframe tbody tr th {\n",
       "        vertical-align: top;\n",
       "    }\n",
       "\n",
       "    .dataframe thead th {\n",
       "        text-align: right;\n",
       "    }\n",
       "</style>\n",
       "<table border=\"1\" class=\"dataframe\">\n",
       "  <thead>\n",
       "    <tr style=\"text-align: right;\">\n",
       "      <th></th>\n",
       "      <th>accession</th>\n",
       "      <th>title</th>\n",
       "      <th>sample_type</th>\n",
       "      <th>animal</th>\n",
       "      <th>canonical_url</th>\n",
       "      <th>metagenomics_url</th>\n",
       "      <th>metabolomics_url</th>\n",
       "    </tr>\n",
       "  </thead>\n",
       "  <tbody>\n",
       "    <tr>\n",
       "      <th>0</th>\n",
       "      <td>SAMEA10104908</td>\n",
       "      <td>CA01.07F1a</td>\n",
       "      <td>metagenomic_assembly</td>\n",
       "      <td>SAMEA112905066</td>\n",
       "      <td>https://www.ebi.ac.uk/ena/browser/view/SAMEA10...</td>\n",
       "      <td>https://www.ebi.ac.uk/metagenomics/api/v1/samp...</td>\n",
       "      <td>None</td>\n",
       "    </tr>\n",
       "    <tr>\n",
       "      <th>1</th>\n",
       "      <td>SAMEA10104910</td>\n",
       "      <td>CA02.12F1a</td>\n",
       "      <td>metagenomic_assembly</td>\n",
       "      <td>SAMEA112904813</td>\n",
       "      <td>https://www.ebi.ac.uk/ena/browser/view/SAMEA10...</td>\n",
       "      <td>https://www.ebi.ac.uk/metagenomics/api/v1/samp...</td>\n",
       "      <td>None</td>\n",
       "    </tr>\n",
       "    <tr>\n",
       "      <th>2</th>\n",
       "      <td>SAMEA10104911</td>\n",
       "      <td>CA02.18F1a</td>\n",
       "      <td>metagenomic_assembly</td>\n",
       "      <td>SAMEA112904777</td>\n",
       "      <td>https://www.ebi.ac.uk/ena/browser/view/SAMEA10...</td>\n",
       "      <td>https://www.ebi.ac.uk/metagenomics/api/v1/samp...</td>\n",
       "      <td>None</td>\n",
       "    </tr>\n",
       "    <tr>\n",
       "      <th>3</th>\n",
       "      <td>SAMEA10104912</td>\n",
       "      <td>CA03.10F1a</td>\n",
       "      <td>metagenomic_assembly</td>\n",
       "      <td>SAMEA112904752</td>\n",
       "      <td>https://www.ebi.ac.uk/ena/browser/view/SAMEA10...</td>\n",
       "      <td>https://www.ebi.ac.uk/metagenomics/api/v1/samp...</td>\n",
       "      <td>None</td>\n",
       "    </tr>\n",
       "    <tr>\n",
       "      <th>4</th>\n",
       "      <td>SAMEA10104914</td>\n",
       "      <td>CA04.10F1a</td>\n",
       "      <td>metagenomic_assembly</td>\n",
       "      <td>SAMEA112904915</td>\n",
       "      <td>https://www.ebi.ac.uk/ena/browser/view/SAMEA10...</td>\n",
       "      <td>https://www.ebi.ac.uk/metagenomics/api/v1/samp...</td>\n",
       "      <td>None</td>\n",
       "    </tr>\n",
       "    <tr>\n",
       "      <th>...</th>\n",
       "      <td>...</td>\n",
       "      <td>...</td>\n",
       "      <td>...</td>\n",
       "      <td>...</td>\n",
       "      <td>...</td>\n",
       "      <td>...</td>\n",
       "      <td>...</td>\n",
       "    </tr>\n",
       "    <tr>\n",
       "      <th>78</th>\n",
       "      <td>SAMEA9449961</td>\n",
       "      <td>CC17.06F1a</td>\n",
       "      <td>metagenomic_assembly</td>\n",
       "      <td>SAMEA112905387</td>\n",
       "      <td>https://www.ebi.ac.uk/ena/browser/view/SAMEA94...</td>\n",
       "      <td>https://www.ebi.ac.uk/metagenomics/api/v1/samp...</td>\n",
       "      <td>None</td>\n",
       "    </tr>\n",
       "    <tr>\n",
       "      <th>79</th>\n",
       "      <td>SAMEA9449962</td>\n",
       "      <td>CC17.10F1a</td>\n",
       "      <td>metagenomic_assembly</td>\n",
       "      <td>SAMEA112905371</td>\n",
       "      <td>https://www.ebi.ac.uk/ena/browser/view/SAMEA94...</td>\n",
       "      <td>https://www.ebi.ac.uk/metagenomics/api/v1/samp...</td>\n",
       "      <td>None</td>\n",
       "    </tr>\n",
       "    <tr>\n",
       "      <th>80</th>\n",
       "      <td>SAMEA9449963</td>\n",
       "      <td>CC16.16F1a</td>\n",
       "      <td>metagenomic_assembly</td>\n",
       "      <td>SAMEA112905164</td>\n",
       "      <td>https://www.ebi.ac.uk/ena/browser/view/SAMEA94...</td>\n",
       "      <td>https://www.ebi.ac.uk/metagenomics/api/v1/samp...</td>\n",
       "      <td>None</td>\n",
       "    </tr>\n",
       "    <tr>\n",
       "      <th>81</th>\n",
       "      <td>SAMEA9449964</td>\n",
       "      <td>CC18.03F1a</td>\n",
       "      <td>metagenomic_assembly</td>\n",
       "      <td>SAMEA112904811</td>\n",
       "      <td>https://www.ebi.ac.uk/ena/browser/view/SAMEA94...</td>\n",
       "      <td>https://www.ebi.ac.uk/metagenomics/api/v1/samp...</td>\n",
       "      <td>None</td>\n",
       "    </tr>\n",
       "    <tr>\n",
       "      <th>82</th>\n",
       "      <td>SAMEA9449965</td>\n",
       "      <td>CC18.05F1a</td>\n",
       "      <td>metagenomic_assembly</td>\n",
       "      <td>SAMEA112905140</td>\n",
       "      <td>https://www.ebi.ac.uk/ena/browser/view/SAMEA94...</td>\n",
       "      <td>https://www.ebi.ac.uk/metagenomics/api/v1/samp...</td>\n",
       "      <td>None</td>\n",
       "    </tr>\n",
       "  </tbody>\n",
       "</table>\n",
       "<p>1383 rows × 7 columns</p>\n",
       "</div>"
      ],
      "text/plain": [
       "        accession       title           sample_type          animal  \\\n",
       "0   SAMEA10104908  CA01.07F1a  metagenomic_assembly  SAMEA112905066   \n",
       "1   SAMEA10104910  CA02.12F1a  metagenomic_assembly  SAMEA112904813   \n",
       "2   SAMEA10104911  CA02.18F1a  metagenomic_assembly  SAMEA112904777   \n",
       "3   SAMEA10104912  CA03.10F1a  metagenomic_assembly  SAMEA112904752   \n",
       "4   SAMEA10104914  CA04.10F1a  metagenomic_assembly  SAMEA112904915   \n",
       "..            ...         ...                   ...             ...   \n",
       "78   SAMEA9449961  CC17.06F1a  metagenomic_assembly  SAMEA112905387   \n",
       "79   SAMEA9449962  CC17.10F1a  metagenomic_assembly  SAMEA112905371   \n",
       "80   SAMEA9449963  CC16.16F1a  metagenomic_assembly  SAMEA112905164   \n",
       "81   SAMEA9449964  CC18.03F1a  metagenomic_assembly  SAMEA112904811   \n",
       "82   SAMEA9449965  CC18.05F1a  metagenomic_assembly  SAMEA112905140   \n",
       "\n",
       "                                        canonical_url  \\\n",
       "0   https://www.ebi.ac.uk/ena/browser/view/SAMEA10...   \n",
       "1   https://www.ebi.ac.uk/ena/browser/view/SAMEA10...   \n",
       "2   https://www.ebi.ac.uk/ena/browser/view/SAMEA10...   \n",
       "3   https://www.ebi.ac.uk/ena/browser/view/SAMEA10...   \n",
       "4   https://www.ebi.ac.uk/ena/browser/view/SAMEA10...   \n",
       "..                                                ...   \n",
       "78  https://www.ebi.ac.uk/ena/browser/view/SAMEA94...   \n",
       "79  https://www.ebi.ac.uk/ena/browser/view/SAMEA94...   \n",
       "80  https://www.ebi.ac.uk/ena/browser/view/SAMEA94...   \n",
       "81  https://www.ebi.ac.uk/ena/browser/view/SAMEA94...   \n",
       "82  https://www.ebi.ac.uk/ena/browser/view/SAMEA94...   \n",
       "\n",
       "                                     metagenomics_url metabolomics_url  \n",
       "0   https://www.ebi.ac.uk/metagenomics/api/v1/samp...             None  \n",
       "1   https://www.ebi.ac.uk/metagenomics/api/v1/samp...             None  \n",
       "2   https://www.ebi.ac.uk/metagenomics/api/v1/samp...             None  \n",
       "3   https://www.ebi.ac.uk/metagenomics/api/v1/samp...             None  \n",
       "4   https://www.ebi.ac.uk/metagenomics/api/v1/samp...             None  \n",
       "..                                                ...              ...  \n",
       "78  https://www.ebi.ac.uk/metagenomics/api/v1/samp...             None  \n",
       "79  https://www.ebi.ac.uk/metagenomics/api/v1/samp...             None  \n",
       "80  https://www.ebi.ac.uk/metagenomics/api/v1/samp...             None  \n",
       "81  https://www.ebi.ac.uk/metagenomics/api/v1/samp...             None  \n",
       "82  https://www.ebi.ac.uk/metagenomics/api/v1/samp...             None  \n",
       "\n",
       "[1383 rows x 7 columns]"
      ]
     },
     "execution_count": 18,
     "metadata": {},
     "output_type": "execute_result"
    }
   ],
   "source": [
    "samples_df"
   ]
  },
  {
   "cell_type": "markdown",
   "id": "85b2a143-a54a-4d3f-aee1-3b7c89c17258",
   "metadata": {},
   "source": [
    "And so, we've more efficiently fetch the metagenomic assemblies – by not pulling pages and pages of irrelevant data."
   ]
  },
  {
   "cell_type": "markdown",
   "id": "43c4c1e9-c0d2-4f39-8cd1-9171242a5b72",
   "metadata": {},
   "source": [
    "# MGnify\n",
    "You can obtain information about the analyses present on MGnify for a certain sample, using the `metagenomic_url` returned by the data portal API:"
   ]
  },
  {
   "cell_type": "code",
   "execution_count": 27,
   "id": "5d711a15-a309-4070-9b37-f5995cc3a0b5",
   "metadata": {},
   "outputs": [
    {
     "data": {
      "text/plain": [
       "'https://www.ebi.ac.uk/metagenomics/api/v1/samples/SAMEA13604493'"
      ]
     },
     "execution_count": 27,
     "metadata": {},
     "output_type": "execute_result"
    }
   ],
   "source": [
    "response = requests.get('https://www.holofooddata.org/api/samples/SAMEA13604493')\n",
    "mgnify_url = response.json().get('metagenomics_url')\n",
    "mgnify_url"
   ]
  },
  {
   "cell_type": "markdown",
   "id": "5ab7e401-9cf0-4a9f-8045-86e3edff6e5b",
   "metadata": {},
   "source": [
    "You can then use that [MGnify API](https://www.ebi.ac.uk/metagenomics/api/v1) endopint to fetch information about that sample and follow related links through MGnify:"
   ]
  },
  {
   "cell_type": "code",
   "execution_count": 33,
   "id": "c17fc909-1ea1-4cba-be53-294461ef51fc",
   "metadata": {},
   "outputs": [
    {
     "data": {
      "text/plain": [
       "[{'type': 'runs',\n",
       "  'id': 'ERR9358532',\n",
       "  'attributes': {'experiment-type': 'metagenomic',\n",
       "   'is-private': False,\n",
       "   'accession': 'ERR9358532',\n",
       "   'secondary-accession': 'ERR9358532',\n",
       "   'ena-study-accession': None,\n",
       "   'instrument-platform': 'ILLUMINA',\n",
       "   'instrument-model': 'Illumina NovaSeq 6000'},\n",
       "  'relationships': {'analyses': {'links': {'related': 'https://www.ebi.ac.uk/metagenomics/api/v1/runs/ERR9358532/analyses'}},\n",
       "   'assemblies': {'links': {'related': 'https://www.ebi.ac.uk/metagenomics/api/v1/runs/ERR9358532/assemblies'},\n",
       "    'data': [{'type': 'assemblies',\n",
       "      'id': 'ERZ13633665',\n",
       "      'links': {'self': 'https://www.ebi.ac.uk/metagenomics/api/v1/assemblies/ERZ13633665'}}]},\n",
       "   'study': {'data': {'type': 'studies', 'id': 'MGYS00006086'},\n",
       "    'links': {'related': 'https://www.ebi.ac.uk/metagenomics/api/v1/studies/MGYS00006086'}},\n",
       "   'sample': {'data': {'type': 'samples', 'id': 'ERS11206669'},\n",
       "    'links': {'related': 'https://www.ebi.ac.uk/metagenomics/api/v1/samples/ERS11206669'}},\n",
       "   'pipelines': {'data': []}},\n",
       "  'links': {'self': 'https://www.ebi.ac.uk/metagenomics/api/v1/runs/ERR9358532'}}]"
      ]
     },
     "execution_count": 33,
     "metadata": {},
     "output_type": "execute_result"
    }
   ],
   "source": [
    "mgnify_response = requests.get(mgnify_url)\n",
    "mgnify_data = mgnify_response.json().get('data')\n",
    "runs_url = mgnify_data['relationships']['runs']['links']['related']\n",
    "\n",
    "mgnify_runs_response = requests.get(runs_url)\n",
    "mgnify_runs_data = mgnify_runs_response.json().get('data')\n",
    "mgnify_runs_data\n"
   ]
  },
  {
   "cell_type": "markdown",
   "id": "4ddaf166-e500-48bd-8f61-c790490e3959",
   "metadata": {},
   "source": [
    "---\n",
    "In most cases, you can also use the base endpoint you're interested in (e.g. `/analyses`) with a filter based on the sample accession.\n",
    "E.g. to find a MGnify analyses of a sample:"
   ]
  },
  {
   "cell_type": "code",
   "execution_count": 36,
   "id": "dcf7ace2-144a-4cf5-bfb5-58abf52f0b91",
   "metadata": {},
   "outputs": [
    {
     "data": {
      "text/plain": [
       "[{'type': 'analysis-jobs',\n",
       "  'id': 'MGYA00617383',\n",
       "  'attributes': {'analysis-status': 'completed',\n",
       "   'accession': 'MGYA00617383',\n",
       "   'experiment-type': 'assembly',\n",
       "   'analysis-summary': [{'key': 'Submitted nucleotide sequences',\n",
       "     'value': '344'},\n",
       "    {'key': 'Nucleotide sequences after format-specific filtering',\n",
       "     'value': '344'},\n",
       "    {'key': 'Nucleotide sequences after length filtering', 'value': '344'},\n",
       "    {'key': 'Nucleotide sequences after undetermined bases filtering',\n",
       "     'value': '344'},\n",
       "    {'key': 'Reads with predicted CDS', 'value': '330'},\n",
       "    {'key': 'Reads with predicted RNA', 'value': '13'},\n",
       "    {'key': 'Reads with InterProScan match', 'value': '108'},\n",
       "    {'key': 'Predicted CDS', 'value': '531'},\n",
       "    {'key': 'Predicted CDS with InterProScan match', 'value': '127'},\n",
       "    {'key': 'Total InterProScan matches', 'value': '299'},\n",
       "    {'key': 'Predicted SSU sequences', 'value': '0'},\n",
       "    {'key': 'Predicted LSU sequences', 'value': '2'}],\n",
       "   'pipeline-version': '5.0',\n",
       "   'is-private': False,\n",
       "   'complete-time': '2022-12-01T19:35:07',\n",
       "   'instrument-platform': 'ILLUMINA',\n",
       "   'instrument-model': 'Illumina NovaSeq 6000'},\n",
       "  'relationships': {'taxonomy-lsu': {'links': {'related': 'https://www.ebi.ac.uk/metagenomics/api/v1/analyses/MGYA00617383/taxonomy/lsu'}},\n",
       "   'go-slim': {'links': {'related': 'https://www.ebi.ac.uk/metagenomics/api/v1/analyses/MGYA00617383/go-slim'}},\n",
       "   'antismash-gene-clusters': {'links': {'related': 'https://www.ebi.ac.uk/metagenomics/api/v1/analyses/MGYA00617383/antismash-gene-clusters'}},\n",
       "   'genome-properties': {'links': {'related': 'https://www.ebi.ac.uk/metagenomics/api/v1/analyses/MGYA00617383/genome-properties'}},\n",
       "   'run': {'data': None},\n",
       "   'study': {'data': {'type': 'studies', 'id': 'MGYS00006086'},\n",
       "    'links': {'related': 'https://www.ebi.ac.uk/metagenomics/api/v1/studies/MGYS00006086'}},\n",
       "   'go-terms': {'links': {'related': 'https://www.ebi.ac.uk/metagenomics/api/v1/analyses/MGYA00617383/go-terms'}},\n",
       "   'taxonomy-itsunite': {'links': {'related': 'https://www.ebi.ac.uk/metagenomics/api/v1/analyses/MGYA00617383/taxonomy/unite'}},\n",
       "   'sample': {'data': {'type': 'samples', 'id': 'ERS11206669'},\n",
       "    'links': {'related': 'https://www.ebi.ac.uk/metagenomics/api/v1/samples/ERS11206669'}},\n",
       "   'taxonomy-itsonedb': {'links': {'related': 'https://www.ebi.ac.uk/metagenomics/api/v1/analyses/MGYA00617383/taxonomy/itsonedb'}},\n",
       "   'taxonomy': {'links': {'related': 'https://www.ebi.ac.uk/metagenomics/api/v1/analyses/MGYA00617383/taxonomy'}},\n",
       "   'assembly': {'data': {'type': 'assemblies', 'id': 'ERZ13633665'},\n",
       "    'links': {'related': 'https://www.ebi.ac.uk/metagenomics/api/v1/assemblies/ERZ13633665'}},\n",
       "   'downloads': {'links': {'related': 'https://www.ebi.ac.uk/metagenomics/api/v1/analyses/MGYA00617383/downloads'}},\n",
       "   'interpro-identifiers': {'links': {'related': 'https://www.ebi.ac.uk/metagenomics/api/v1/analyses/MGYA00617383/interpro-identifiers'}},\n",
       "   'taxonomy-ssu': {'links': {'related': 'https://www.ebi.ac.uk/metagenomics/api/v1/analyses/MGYA00617383/taxonomy/ssu'}}},\n",
       "  'links': {'self': 'https://www.ebi.ac.uk/metagenomics/api/v1/analyses/MGYA00617383'}}]"
      ]
     },
     "execution_count": 36,
     "metadata": {},
     "output_type": "execute_result"
    }
   ],
   "source": [
    "mgnify_response = requests.get('https://www.ebi.ac.uk/metagenomics/api/v1/analyses?sample_accession=SAMEA13604493')\n",
    "mgnify_response.json().get('data')"
   ]
  },
  {
   "cell_type": "markdown",
   "id": "18ec9dbe-2553-4055-bcc6-a1b2ef71bb44",
   "metadata": {},
   "source": [
    "# MetaboLights\n",
    "You can find the MetaboLights URL for a study from the portal API:"
   ]
  },
  {
   "cell_type": "code",
   "execution_count": 39,
   "id": "9e52dace-c23f-4dff-a854-9a2cdf015b0f",
   "metadata": {},
   "outputs": [
    {
     "data": {
      "text/plain": [
       "'https://www.ebi.ac.uk/metabolights/ws/studies/MTBLS6988'"
      ]
     },
     "execution_count": 39,
     "metadata": {},
     "output_type": "execute_result"
    }
   ],
   "source": [
    "mtbls_response = requests.get('https://www.holofooddata.org/api/samples/SAMEA112907471')\n",
    "mtbls_url = mtbls_response.json().get('metabolomics_url')\n",
    "mtbls_url"
   ]
  },
  {
   "cell_type": "markdown",
   "id": "791fc026-07c2-4bf9-90fb-98f60d041320",
   "metadata": {},
   "source": [
    "This URL is for the entire study on MetaboLights, rather than a specific sample.\n",
    "The data portal **website** (but not the API, for performance reasons) navigate the MetaboLights API in order to find the files relevant to a particular sample.\n",
    "\n",
    "The [code that does this in the data portal](https://github.com/EBI-Metagenomics/holofood-database/blob/main/holofood/external_apis/metabolights/api.py) shows how this can be achieved.\n",
    "In short: fetch the files list from the MetaboLights API, and find the `metadata_sample` file (it is an ISA-TAB file).\n",
    "Look through that file for the the row where `Characteristics[BioSamples accession]` is your sample(s) of interest. This field may have slightly different names in different studies.\n",
    "This lets you find the `Sample Name` corresponding to the BioSample accession.\n",
    "\n",
    "Then, find the `metadata_assay` file(s) from the file list.\n",
    "Concatenate all of these `metadata_assay` tab files, and find all the rows from all of the `metadata_assay` sheets where the `Sample Name` matches.\n",
    "\n",
    "These assay sheets will have columns of interest about the assays used, the raw and derived files, and the metabolites association files. These are filenames which you can then download."
   ]
  },
  {
   "cell_type": "code",
   "execution_count": null,
   "id": "0abb1934-7b45-4235-b68e-e3325d676f81",
   "metadata": {},
   "outputs": [],
   "source": []
  }
 ],
 "metadata": {
  "kernelspec": {
   "display_name": "ds",
   "language": "python",
   "name": "ds"
  },
  "language_info": {
   "codemirror_mode": {
    "name": "ipython",
    "version": 3
   },
   "file_extension": ".py",
   "mimetype": "text/x-python",
   "name": "python",
   "nbconvert_exporter": "python",
   "pygments_lexer": "ipython3",
   "version": "3.9.7"
  }
 },
 "nbformat": 4,
 "nbformat_minor": 5
}
