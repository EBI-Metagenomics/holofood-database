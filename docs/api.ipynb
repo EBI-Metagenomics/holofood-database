{
 "cells": [
  {
   "cell_type": "raw",
   "id": "34acb444-d7d0-48c2-b3be-f9fb760129ba",
   "metadata": {},
   "source": [
    "---\n",
    "title: \"API for Programmatic Access\"\n",
    "---"
   ]
  },
  {
   "cell_type": "markdown",
   "id": "bcb5d5ca-2941-4d3c-9299-1cafb7bc0fe9",
   "metadata": {},
   "source": [
    "APIs (Application Programming Interfaces) allow programmatic access to data resources.\n",
    "If you need to fetch and analyse metadata for many Samples, \n",
    "you can write a script to fetch data in this way.\n",
    "\n",
    "The [HoloFood Data Portal API]() \n",
    "gives programmatic access to the HoloFood Samples and their metadata,\n",
    "as well as URLs for where datasets are stored in public archives.\n",
    "\n",
    "## Canonical URLs\n",
    "Throughout the API, `canonical_url`s are returned which point to the canonical database entry, \n",
    "i.e. the authoritative source,  for each data object.\n",
    "\n",
    "These are:\n",
    "- The [European Nucleotide Archive Browser](https://www.ebi.ac.uk/ena/browser/home) for Samples and Projects.\n",
    "- [MGnify](https://www.ebi.ac.uk/metagenomics) for metagenomic-derived analyses and MAGs (metagenome assembled genomes)\n",
    "- [MetaboLights](https://www.ebi.ac.uk/metabolights/) for metabolomic analyses\n",
    "- The websites of various partner institutions and registries where an [IRI](https://en.wikipedia.org/wiki/Internationalized_Resource_Identifier) has been supplied with a metadata entry.\n",
    "- The HoloFood Data Portal itself for \"Annotations\", which are documents hosted only by this website.\n",
    "\n",
    "## API Endpoints and Playground\n",
    "TODO\n"
   ]
  },
  {
   "cell_type": "code",
   "execution_count": null,
   "id": "b14b09b2-100c-420c-bea4-42b8d19c07df",
   "metadata": {},
   "outputs": [],
   "source": []
  }
 ],
 "metadata": {
  "kernelspec": {
   "display_name": "Python 3 (ipykernel)",
   "language": "python",
   "name": "python3"
  },
  "language_info": {
   "codemirror_mode": {
    "name": "ipython",
    "version": 3
   },
   "file_extension": ".py",
   "mimetype": "text/x-python",
   "name": "python",
   "nbconvert_exporter": "python",
   "pygments_lexer": "ipython3",
   "version": "3.9.12"
  }
 },
 "nbformat": 4,
 "nbformat_minor": 5
}
