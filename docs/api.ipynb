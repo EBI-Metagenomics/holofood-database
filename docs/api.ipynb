{
 "cells": [
  {
   "cell_type": "raw",
   "id": "34acb444-d7d0-48c2-b3be-f9fb760129ba",
   "metadata": {},
   "source": [
    "---\n",
    "title: \"API for Programmatic Access\"\n",
    "---"
   ]
  },
  {
   "cell_type": "markdown",
   "id": "6bb2a773-01ff-4baa-8eb2-d17c41365f7d",
   "metadata": {},
   "source": [
    "APIs (Application Programming Interfaces) allow programmatic access to data resources.\n",
    "If you need to fetch and analyse metadata for many Samples, \n",
    "you can write a script to fetch data in this way.\n",
    "\n",
    "The [HoloFood Data Portal API]() \n",
    "gives programmatic access to the HoloFood Samples and their metadata,\n",
    "as well as URLs for where datasets are stored in public archives."
   ]
  },
  {
   "cell_type": "markdown",
   "id": "62eebfb3-2a9e-45eb-a3b9-5bcc2c7d5a75",
   "metadata": {},
   "source": [
    "## Canonical URLs\n",
    "Throughout the API, `canonical_url`s are returned which point to the canonical database entry, \n",
    "i.e. the authoritative source,  for each data object.\n",
    "\n",
    "These are:\n",
    "\n",
    "- The [European Nucleotide Archive Browser](https://www.ebi.ac.uk/ena/browser/home) for Samples and Projects.\n",
    "- [MGnify](https://www.ebi.ac.uk/metagenomics) for metagenomic-derived analyses and MAGs (metagenome assembled genomes)\n",
    "- [MetaboLights](https://www.ebi.ac.uk/metabolights/) for metabolomic analyses\n",
    "- The websites of various partner institutions and registries where an [IRI](https://en.wikipedia.org/wiki/Internationalized_Resource_Identifier) has been supplied with a metadata entry.\n",
    "- The HoloFood Data Portal itself for \"Annotations\", which are documents hosted only by this website.\n",
    "- The HoloFood Data Portal itself for viral annotations"
   ]
  },
  {
   "cell_type": "markdown",
   "id": "8887bd4d-b898-4195-a616-947c112977f2",
   "metadata": {},
   "source": [
    "## API Endpoints and Playground\n",
    "\n",
    "The [\"Browsable API Playground\"]({{< var portal.root_url >}}/api) is the best place to discover the API.\n",
    "Find this under the `API` navigation item on the data portal.\n",
    "\n",
    "The browsable API lets you see the endpoints and their response schemas.\n",
    "Under an endpoint, press `Try it out` to see the output for a specific query.\n",
    "\n",
    "In brief, the top-level endpoints are:\n",
    "\n",
    "### `/api/samples`\n",
    "List samples, or fetch details about a specific sample (like its metadata).\n",
    "\n",
    "### `/api/annotations`\n",
    "List summary analyses published on the data portal.\n",
    "\n",
    "### `/api/genome-catalogues`\n",
    "List MAG catalogues, or fetch detail about a catalogue, or list the MAGs within a catalogue.\n",
    "\n",
    "### `/api/viral-catalogues`\n",
    "List Viral catalogues, or fetch detail about a catalogue, or list the fragments within a catalogue."
   ]
  },
  {
   "cell_type": "markdown",
   "id": "4ca1cf61-1618-4fc8-94ae-b32b742ff9dc",
   "metadata": {},
   "source": [
    "## Using the API\n",
    "### From the command line\n",
    "\n",
    "Use a command line tool like [cURL](https://curl.se/) to query the API.\n",
    "Responses are in [JSON](https://www.json.org/json-en.html) format.\n",
    "\n",
    "For example to list all samples:\n",
    "```bash\n",
    "curl {{< var portal.root_url >}}/api/samples\n",
    "```\n",
    "\n",
    "To find the `Acetic acid` metadata associated with sample `SAMEA14099422`, we could (using [`jq`](https://stedolan.github.io/jq/) to handle JSON data on the command line):\n",
    "```bash\n",
    "curl {{< var portal.root_url >}}/api/samples/SAMEA14099422 | jq '.structured_metadata | .[] | select(.marker.name == \"Acetic acid\")'\n",
    "```\n",
    "and get\n",
    "```json\n",
    "{\n",
    "  \"marker\": {\n",
    "    \"name\": \"Acetic acid\",\n",
    "    \"type\": \"FATTY ACIDS\",\n",
    "    \"canonical_url\": null\n",
    "  },\n",
    "  \"measurement\": \"62.30155\",\n",
    "  \"units\": \"umol/g digesta\"\n",
    "}\n",
    "\n",
    "```"
   ]
  },
  {
   "cell_type": "markdown",
   "id": "04c33205-e6c3-41d1-a945-39d14ab4b1a0",
   "metadata": {},
   "source": [
    "### From Python\n",
    "More realistically, to fetch a list of samples as a [Pandas dataframe](https://pandas.pydata.org/)\n",
    "\n",
    ":::{.callout-tip}\n",
    "## Packages required\n",
    "```bash\n",
    "pip install requests pandas\n",
    "```\n",
    ":::"
   ]
  },
  {
   "cell_type": "code",
   "execution_count": 24,
   "id": "348b32db-2f27-493d-97d6-2a0c676c767e",
   "metadata": {},
   "outputs": [],
   "source": [
    "import requests\n",
    "import pandas as pd"
   ]
  },
  {
   "cell_type": "markdown",
   "id": "5fd6704b-9064-4f6d-9324-f05a2472260c",
   "metadata": {},
   "source": [
    "```python\n",
    "samples = requests.get('{{< var portal.root_url >}}/api/samples')\n",
    "```"
   ]
  },
  {
   "cell_type": "code",
   "execution_count": 21,
   "id": "b11eefc3-6db8-4657-8aad-d79744d39d3c",
   "metadata": {},
   "outputs": [],
   "source": [
    "#|include: false\n",
    "samples = requests.get('http://127.0.0.1:8000/api/samples')"
   ]
  },
  {
   "cell_type": "code",
   "execution_count": 32,
   "id": "52d133e0-2bd5-4438-9989-f1790bab3e03",
   "metadata": {},
   "outputs": [
    {
     "data": {
      "text/html": [
       "<div>\n",
       "<style scoped>\n",
       "    .dataframe tbody tr th:only-of-type {\n",
       "        vertical-align: middle;\n",
       "    }\n",
       "\n",
       "    .dataframe tbody tr th {\n",
       "        vertical-align: top;\n",
       "    }\n",
       "\n",
       "    .dataframe thead th {\n",
       "        text-align: right;\n",
       "    }\n",
       "</style>\n",
       "<table border=\"1\" class=\"dataframe\">\n",
       "  <thead>\n",
       "    <tr style=\"text-align: right;\">\n",
       "      <th></th>\n",
       "      <th>accession</th>\n",
       "      <th>title</th>\n",
       "      <th>system</th>\n",
       "      <th>has_metagenomics</th>\n",
       "      <th>canonical_url</th>\n",
       "      <th>metagenomics_url</th>\n",
       "      <th>project.accession</th>\n",
       "      <th>project.title</th>\n",
       "      <th>project.canonical_url</th>\n",
       "    </tr>\n",
       "  </thead>\n",
       "  <tbody>\n",
       "    <tr>\n",
       "      <th>0</th>\n",
       "      <td>SAMEA14099422</td>\n",
       "      <td>CB03.16F1a</td>\n",
       "      <td>chicken</td>\n",
       "      <td>False</td>\n",
       "      <td>https://www.ebi.ac.uk/ena/browser/view/SAMEA14...</td>\n",
       "      <td>None</td>\n",
       "      <td>PRJEB39110</td>\n",
       "      <td>HoloFood Chicken - MAG Catalogue from Caecum c...</td>\n",
       "      <td>https://www.ebi.ac.uk/ena/browser/view/PRJEB39110</td>\n",
       "    </tr>\n",
       "    <tr>\n",
       "      <th>1</th>\n",
       "      <td>SAMEA7025234</td>\n",
       "      <td>CA01.10F1a</td>\n",
       "      <td>chicken</td>\n",
       "      <td>False</td>\n",
       "      <td>https://www.ebi.ac.uk/ena/browser/view/SAMEA70...</td>\n",
       "      <td>None</td>\n",
       "      <td>PRJEB39110</td>\n",
       "      <td>HoloFood Chicken - MAG Catalogue from Caecum c...</td>\n",
       "      <td>https://www.ebi.ac.uk/ena/browser/view/PRJEB39110</td>\n",
       "    </tr>\n",
       "    <tr>\n",
       "      <th>2</th>\n",
       "      <td>SAMEA7025235</td>\n",
       "      <td>CA02.14F1a</td>\n",
       "      <td>chicken</td>\n",
       "      <td>False</td>\n",
       "      <td>https://www.ebi.ac.uk/ena/browser/view/SAMEA70...</td>\n",
       "      <td>None</td>\n",
       "      <td>PRJEB39110</td>\n",
       "      <td>HoloFood Chicken - MAG Catalogue from Caecum c...</td>\n",
       "      <td>https://www.ebi.ac.uk/ena/browser/view/PRJEB39110</td>\n",
       "    </tr>\n",
       "  </tbody>\n",
       "</table>\n",
       "</div>"
      ],
      "text/plain": [
       "       accession       title   system  has_metagenomics  \\\n",
       "0  SAMEA14099422  CB03.16F1a  chicken             False   \n",
       "1   SAMEA7025234  CA01.10F1a  chicken             False   \n",
       "2   SAMEA7025235  CA02.14F1a  chicken             False   \n",
       "\n",
       "                                       canonical_url metagenomics_url  \\\n",
       "0  https://www.ebi.ac.uk/ena/browser/view/SAMEA14...             None   \n",
       "1  https://www.ebi.ac.uk/ena/browser/view/SAMEA70...             None   \n",
       "2  https://www.ebi.ac.uk/ena/browser/view/SAMEA70...             None   \n",
       "\n",
       "  project.accession                                      project.title  \\\n",
       "0        PRJEB39110  HoloFood Chicken - MAG Catalogue from Caecum c...   \n",
       "1        PRJEB39110  HoloFood Chicken - MAG Catalogue from Caecum c...   \n",
       "2        PRJEB39110  HoloFood Chicken - MAG Catalogue from Caecum c...   \n",
       "\n",
       "                               project.canonical_url  \n",
       "0  https://www.ebi.ac.uk/ena/browser/view/PRJEB39110  \n",
       "1  https://www.ebi.ac.uk/ena/browser/view/PRJEB39110  \n",
       "2  https://www.ebi.ac.uk/ena/browser/view/PRJEB39110  "
      ]
     },
     "execution_count": 32,
     "metadata": {},
     "output_type": "execute_result"
    }
   ],
   "source": [
    "samples_df = pd.json_normalize(samples.json()['items'])\n",
    "samples_df.head(3)"
   ]
  },
  {
   "cell_type": "markdown",
   "id": "f82eef63-2dea-4306-9357-5fb04a235e1b",
   "metadata": {},
   "source": [
    ":::{.callout-important}\n",
    "## Paginated data\n",
    "\n",
    "However... we haven't got all of the data. We only have one page.\n",
    "\n",
    "The `?page=` URL query parameter lets us retrieve subsequent pages.\n",
    ":::"
   ]
  },
  {
   "cell_type": "code",
   "execution_count": 45,
   "id": "7ad8fca1-ccf4-42a8-87cf-555c4e2429d4",
   "metadata": {},
   "outputs": [
    {
     "data": {
      "text/plain": [
       "100"
      ]
     },
     "execution_count": 45,
     "metadata": {},
     "output_type": "execute_result"
    }
   ],
   "source": [
    "len(samples_df)"
   ]
  },
  {
   "cell_type": "markdown",
   "id": "149c6a03-99f4-456b-9479-158aff8fd7a5",
   "metadata": {},
   "source": [
    "The API response does tell us how many items there are *in total*:"
   ]
  },
  {
   "cell_type": "code",
   "execution_count": 55,
   "id": "e50a3859-adb1-44a4-baaf-acc8ab2e28a9",
   "metadata": {},
   "outputs": [
    {
     "data": {
      "text/plain": [
       "429"
      ]
     },
     "execution_count": 55,
     "metadata": {},
     "output_type": "execute_result"
    }
   ],
   "source": [
    "samples.json()['count']"
   ]
  },
  {
   "cell_type": "code",
   "execution_count": 52,
   "id": "9106cbec-69fe-405a-9b2f-eec87dc16fa8",
   "metadata": {},
   "outputs": [],
   "source": [
    "#|include: false\n",
    "samples_endpoint_base = 'http://127.0.0.1:8000/api/samples'"
   ]
  },
  {
   "cell_type": "markdown",
   "id": "54d27965-3c4a-48e1-af96-44c25666083b",
   "metadata": {},
   "source": [
    "```python\n",
    "samples_endpoint_base = '{{< var portal.root_url >}}/api/samples'\n",
    "```"
   ]
  },
  {
   "cell_type": "code",
   "execution_count": 56,
   "id": "76268cc3-bc7f-4788-953a-9ed504cc18f3",
   "metadata": {},
   "outputs": [
    {
     "name": "stdout",
     "output_type": "stream",
     "text": [
      "Fetching page=1\n",
      "Fetching page=2\n",
      "Fetching page=3\n",
      "Fetching page=4\n",
      "Fetching page=5\n"
     ]
    }
   ],
   "source": [
    "page = 1\n",
    "\n",
    "while page:\n",
    "    print(f'Fetching {page=}')\n",
    "    \n",
    "    samples_page = requests.get(f'{samples_endpoint_base}?{page=}').json()\n",
    "    samples_page_df = pd.json_normalize(samples_page['items'])\n",
    "    \n",
    "    if page == 1:\n",
    "        samples_df = samples_page_df\n",
    "    else:\n",
    "        samples_df = pd.concat([samples_df, samples_page_df])\n",
    "    page += 1\n",
    "    if len(samples_df) >= samples_page['count']:\n",
    "        page = False"
   ]
  },
  {
   "cell_type": "code",
   "execution_count": 50,
   "id": "b2affa8f-a330-4eb8-801c-7c363929f939",
   "metadata": {},
   "outputs": [
    {
     "data": {
      "text/plain": [
       "429"
      ]
     },
     "execution_count": 50,
     "metadata": {},
     "output_type": "execute_result"
    }
   ],
   "source": [
    "len(samples_df)"
   ]
  },
  {
   "cell_type": "markdown",
   "id": "35d9afa4-cdae-4be5-a25f-cb29dc4d5387",
   "metadata": {},
   "source": [
    "#### Find all *salmon* samples:"
   ]
  },
  {
   "cell_type": "code",
   "execution_count": 54,
   "id": "6727da24-277c-4030-8302-526be2444633",
   "metadata": {},
   "outputs": [
    {
     "name": "stdout",
     "output_type": "stream",
     "text": [
      "359\n"
     ]
    },
    {
     "data": {
      "text/html": [
       "<div>\n",
       "<style scoped>\n",
       "    .dataframe tbody tr th:only-of-type {\n",
       "        vertical-align: middle;\n",
       "    }\n",
       "\n",
       "    .dataframe tbody tr th {\n",
       "        vertical-align: top;\n",
       "    }\n",
       "\n",
       "    .dataframe thead th {\n",
       "        text-align: right;\n",
       "    }\n",
       "</style>\n",
       "<table border=\"1\" class=\"dataframe\">\n",
       "  <thead>\n",
       "    <tr style=\"text-align: right;\">\n",
       "      <th></th>\n",
       "      <th>accession</th>\n",
       "      <th>title</th>\n",
       "      <th>system</th>\n",
       "      <th>has_metagenomics</th>\n",
       "      <th>canonical_url</th>\n",
       "      <th>metagenomics_url</th>\n",
       "      <th>project.accession</th>\n",
       "      <th>project.title</th>\n",
       "      <th>project.canonical_url</th>\n",
       "    </tr>\n",
       "  </thead>\n",
       "  <tbody>\n",
       "    <tr>\n",
       "      <th>68</th>\n",
       "      <td>SAMEA7678309</td>\n",
       "      <td>SA01.05C1a</td>\n",
       "      <td>salmon</td>\n",
       "      <td>False</td>\n",
       "      <td>https://www.ebi.ac.uk/ena/browser/view/SAMEA76...</td>\n",
       "      <td>None</td>\n",
       "      <td>PRJEB41657</td>\n",
       "      <td>HoloFood Salmon - Metagenomic DNA</td>\n",
       "      <td>https://www.ebi.ac.uk/ena/browser/view/PRJEB41657</td>\n",
       "    </tr>\n",
       "    <tr>\n",
       "      <th>69</th>\n",
       "      <td>SAMEA7678310</td>\n",
       "      <td>SB10.13C1a</td>\n",
       "      <td>salmon</td>\n",
       "      <td>False</td>\n",
       "      <td>https://www.ebi.ac.uk/ena/browser/view/SAMEA76...</td>\n",
       "      <td>None</td>\n",
       "      <td>PRJEB41657</td>\n",
       "      <td>HoloFood Salmon - Metagenomic DNA</td>\n",
       "      <td>https://www.ebi.ac.uk/ena/browser/view/PRJEB41657</td>\n",
       "    </tr>\n",
       "    <tr>\n",
       "      <th>70</th>\n",
       "      <td>SAMEA7687880</td>\n",
       "      <td>SA01.01C1a</td>\n",
       "      <td>salmon</td>\n",
       "      <td>False</td>\n",
       "      <td>https://www.ebi.ac.uk/ena/browser/view/SAMEA76...</td>\n",
       "      <td>None</td>\n",
       "      <td>PRJEB41657</td>\n",
       "      <td>HoloFood Salmon - Metagenomic DNA</td>\n",
       "      <td>https://www.ebi.ac.uk/ena/browser/view/PRJEB41657</td>\n",
       "    </tr>\n",
       "  </tbody>\n",
       "</table>\n",
       "</div>"
      ],
      "text/plain": [
       "       accession       title  system  has_metagenomics  \\\n",
       "68  SAMEA7678309  SA01.05C1a  salmon             False   \n",
       "69  SAMEA7678310  SB10.13C1a  salmon             False   \n",
       "70  SAMEA7687880  SA01.01C1a  salmon             False   \n",
       "\n",
       "                                        canonical_url metagenomics_url  \\\n",
       "68  https://www.ebi.ac.uk/ena/browser/view/SAMEA76...             None   \n",
       "69  https://www.ebi.ac.uk/ena/browser/view/SAMEA76...             None   \n",
       "70  https://www.ebi.ac.uk/ena/browser/view/SAMEA76...             None   \n",
       "\n",
       "   project.accession                      project.title  \\\n",
       "68        PRJEB41657  HoloFood Salmon - Metagenomic DNA   \n",
       "69        PRJEB41657  HoloFood Salmon - Metagenomic DNA   \n",
       "70        PRJEB41657  HoloFood Salmon - Metagenomic DNA   \n",
       "\n",
       "                                project.canonical_url  \n",
       "68  https://www.ebi.ac.uk/ena/browser/view/PRJEB41657  \n",
       "69  https://www.ebi.ac.uk/ena/browser/view/PRJEB41657  \n",
       "70  https://www.ebi.ac.uk/ena/browser/view/PRJEB41657  "
      ]
     },
     "execution_count": 54,
     "metadata": {},
     "output_type": "execute_result"
    }
   ],
   "source": [
    "salmon = samples_df[samples_df.system == 'salmon']\n",
    "print(len(salmon))\n",
    "salmon.head(3)"
   ]
  },
  {
   "cell_type": "code",
   "execution_count": null,
   "id": "75619430-d7c1-4201-a179-7b5b8564a425",
   "metadata": {},
   "outputs": [],
   "source": []
  }
 ],
 "metadata": {
  "kernelspec": {
   "display_name": "HolofoodDatabase",
   "language": "python",
   "name": "holofooddatabase"
  },
  "language_info": {
   "codemirror_mode": {
    "name": "ipython",
    "version": 3
   },
   "file_extension": ".py",
   "mimetype": "text/x-python",
   "name": "python",
   "nbconvert_exporter": "python",
   "pygments_lexer": "ipython3",
   "version": "3.10.3"
  }
 },
 "nbformat": 4,
 "nbformat_minor": 5
}
