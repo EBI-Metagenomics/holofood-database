{
 "cells": [
  {
   "cell_type": "raw",
   "id": "9218e07f-060a-4d08-b78c-c74e97b9190e",
   "metadata": {},
   "source": [
    "---\n",
    "title: \"Tutorial\"\n",
    "format:\n",
    "  html:\n",
    "    code-fold: false\n",
    "jupyter: python3\n",
    "---"
   ]
  },
  {
   "cell_type": "markdown",
   "id": "c8bf6ee2-4685-48d9-8c18-f927b9cf95df",
   "metadata": {},
   "source": [
    "# A guide to using the HoloFood Data Portal\n",
    "This tutorial showcases the core uses of the Data Portal.\n",
    "There is a solution to each learning objective."
   ]
  },
  {
   "cell_type": "markdown",
   "id": "ccd96a74-81f1-4962-aa6f-8a0e648ec9c0",
   "metadata": {},
   "source": [
    "## Objective 1: Finding samples using the website\n",
    "\n",
    "Open the [HoloFood Data Portal]({{< var portal.root_url >}}).\n",
    "\n",
    "Find all *Salmon* samples from the project `PRJEB41657`.\n",
    "\n",
    ":::{.callout-tip collapse=\"true\"}\n",
    "## Solution\n",
    "Type `PRJEB41657` into the `Project accession contains` filter next to the table, and press `Apply`.\n",
    ":::"
   ]
  },
  {
   "cell_type": "markdown",
   "id": "1c4ae67a-72f3-4553-83e5-92e51d9fbde0",
   "metadata": {},
   "source": [
    "## Objective 2: Find metadata for a specific sample\n",
    "\n",
    "- Find the *Chicken* sample `SAMEA7025251`.\n",
    "- From the sample's metadata, find the average daily feed intake of chicken's in that pen in the first trial week.\n",
    "\n",
    ":::{.callout-tip collapse=\"true\"}\n",
    "## Solution\n",
    "\n",
    "- Click `Chicken samples` in the navigation bar.\n",
    "- Type `SAMEA7025251` into the `Accession contains` filter, press `Apply`.\n",
    "- Click `View` in the single row of the table.\n",
    "- Open the `Sample metadata` section of the sample detail page.\n",
    "- Switch to the `Pen` tab of metadata.\n",
    "- Find the `Average Daily Feed intake: Day 00 - 07` row (measurement = 18.59g).\n",
    ":::"
   ]
  },
  {
   "cell_type": "markdown",
   "id": "08c62fed-a279-4a2b-a099-f1c6d71e6170",
   "metadata": {},
   "source": [
    "## Objective 3: Find MAG metadata from MGnify\n",
    "\n",
    ":::{.callout-caution}\n",
    "## Fake data\n",
    "Currently this example is based on fake data that does not originate from the HoloFood project.\n",
    ":::\n",
    "\n",
    "- Find the `HoloFood Cow Rumen v1` genome `MGYG1`\n",
    "- Using the genome's species representative, find the genome's most prevalent [COG category](https://www.ncbi.nlm.nih.gov/research/cog) with a known function.\n",
    "\n",
    ":::{.callout-tip collapse=\"true\"}\n",
    "## Solution\n",
    "\n",
    "- Click `Genomes` in the navigation bar.\n",
    "- Select the `HoloFood Cow Rumen v1` catalogue in the sub navigation\n",
    "- Type `MGYG1` in the `Accession contains` filter.\n",
    "- Click `View on MGnify` in the single row of the table.\n",
    "- On the MGnify page that opens, switch to the `COG analysis` sub-tab.\n",
    "- Look at the bar chart. Ignoring cataegory `S (Function unknown)`, category `M (Cell wall/membrane/envelope biogenesis)` is the most prevalent COG category in this genome.\n",
    ":::"
   ]
  },
  {
   "cell_type": "markdown",
   "id": "7466e6d1-8f05-4bf8-a6f6-a42cbcf8f992",
   "metadata": {},
   "source": [
    "## Objective 4: Find viral fragments within a MAG\n",
    "\n",
    ":::{.callout-caution}\n",
    "## Fake data\n",
    "Currently this example is based on fake data that does not originate from the HoloFood project.\n",
    ":::\n",
    "\n",
    "- Find the `HoloFood Cow Rumen Viruses v0` catalogue`\n",
    "- Find a viral sequence present in the host MAG with taxonomy `Prevotella sp902792635`\n",
    "- Find all of the [ViPhOG](https://osf.io/2zd9r/) viral annotations on that viral sequence\n",
    "\n",
    ":::{.callout-tip collapse=\"true\"}\n",
    "## Solution\n",
    "\n",
    "- Click `Viruses` in the navigation bar.\n",
    "- Select the `HoloFood Cow Rumen Viruses v0` catalogue in the sub navigation\n",
    "- Type `Prevotella sp902792635` in the `Host MAG taxonomy contains` filter.\n",
    "- Click `View contig` in the first/only row of the table.\n",
    "- In the contig viewer now shown above the table, find the `ViPhOGs` annotation track\n",
    "- Click on each ViPhOG annotation (dark green), and find the `ViPhOG ID` from the popup\n",
    "- You should have found two: `[ViPhOG1, ViPhOG2]`\n",
    ":::"
   ]
  },
  {
   "cell_type": "markdown",
   "id": "cdc7c781-b9aa-42c5-8fd5-9cc7ed8fea95",
   "metadata": {},
   "source": [
    "## Objective 5: Use Python to analyse data from the API\n",
    "\n",
    ":::{.callout-tip}\n",
    "## Packages required\n",
    "```bash\n",
    "pip install requests pandas matplotlib\n",
    "```\n",
    ":::\n",
    "\n",
    "- Use the [API]({{< var portal.root_url >}}/api) to fetch a list of HoloFood samples as a Pandas dataframe (the [API docs will be very helpful](api.ipynb#from-python))\n",
    "    - Only fetch samples from project `PRJEB41657`\n",
    "    - Only fetch samples from Trial A Tank 1 (which happen to have sample titles starting `SA01`)\n",
    "    - Only fetch samples which have a non-empty value for metadata variable `host length` (that's the length of the fish the sample came from)\n",
    "- Make two histograms, showing the distribution of `host length` metadata values at timepoints `0 days` and `60 days`"
   ]
  },
  {
   "cell_type": "code",
   "execution_count": 1,
   "id": "87afad5f-5449-4613-b78c-34247dc1fcea",
   "metadata": {},
   "outputs": [],
   "source": [
    "#|include: false\n",
    "samples_endpoint_base = 'http://127.0.0.1:8000/api/samples'\n",
    "\n",
    "import requests\n",
    "import pandas as pd\n",
    "import matplotlib.pyplot as plt"
   ]
  },
  {
   "cell_type": "markdown",
   "id": "761cf3bb-8070-4d95-b8ec-000cf08dd750",
   "metadata": {},
   "source": [
    "Here's a startpoint for the libraries and base API endpoint you need:\n",
    "\n",
    "```python\n",
    "samples_endpoint_base = '{{< var portal.root_url >}}/api/samples'\n",
    "import requests\n",
    "import pandas as pd\n",
    "import matplotlib as plt\n",
    "```"
   ]
  },
  {
   "cell_type": "markdown",
   "id": "a4540ae8-1db0-4830-8b9f-2b3a9e5c501a",
   "metadata": {},
   "source": [
    "A complete solution is below."
   ]
  },
  {
   "cell_type": "code",
   "execution_count": 4,
   "id": "5e1925d5-cf03-40aa-9497-0a83a6590ec1",
   "metadata": {},
   "outputs": [
    {
     "data": {
      "image/png": "[encoded data removed]",
      "text/plain": [
       "<Figure size 432x288 with 1 Axes>"
      ]
     },
     "metadata": {
      "needs_background": "light"
     },
     "output_type": "display_data"
    }
   ],
   "source": [
    "#|code-fold: true\n",
    "page = 1\n",
    "\n",
    "while page:\n",
    "    samples_page = requests.get(\n",
    "        f'{samples_endpoint_base}?{page=}&project=PRJEB41657&title=SA01&require_metadata_value=host length'\n",
    "    ).json()\n",
    "    samples_page_df = pd.json_normalize(\n",
    "        samples_page['items']\n",
    "    )\n",
    "    \n",
    "    if page == 1:\n",
    "        samples_df = samples_page_df\n",
    "    else:\n",
    "        samples_df = pd.concat(\n",
    "            [\n",
    "                samples_df,\n",
    "                samples_page_df\n",
    "            ]\n",
    "        )\n",
    "    \n",
    "    page += 1\n",
    "    if len(samples_df) >= samples_page['count']:\n",
    "        page = False\n",
    "\n",
    "def get_host_length_and_timepoint(sample):\n",
    "    sample_detail = requests.get(\n",
    "        f'{samples_endpoint_base}/{sample.accession}'\n",
    "    ).json()\n",
    "    metadata = sample_detail['structured_metadata']\n",
    "    host_length = next(\n",
    "        metadatum \n",
    "        for metadatum in metadata \n",
    "        if metadatum['marker']['name'] == 'host length'\n",
    "    )\n",
    "    timepoint = next(\n",
    "        metadatum \n",
    "        for metadatum in metadata \n",
    "        if metadatum['marker']['name'] == 'trial timepoint'\n",
    "    )\n",
    "    return host_length['measurement'], timepoint['measurement']\n",
    "\n",
    "metadata = samples_df.apply(\n",
    "    get_host_length_and_timepoint, \n",
    "    axis='columns', \n",
    "    result_type='expand'\n",
    ").rename(\n",
    "    columns={\n",
    "        0: 'host_length_cm', \n",
    "        1: 'trial_timepoint_days'\n",
    "    }\n",
    ")\n",
    "trial_samples = pd.concat(\n",
    "    [\n",
    "        samples_df,\n",
    "        metadata\n",
    "    ]\n",
    ")\n",
    "trial_samples.groupby('trial_timepoint_days').host_length_cm.hist(legend=True, bins=5, alpha=0.5)\n",
    "plt.xlabel('Host length / cm');"
   ]
  },
  {
   "cell_type": "code",
   "execution_count": null,
   "id": "bbe6f1db-1a46-48ab-b9fe-f465d780a63f",
   "metadata": {},
   "outputs": [],
   "source": []
  }
 ],
 "metadata": {
  "kernelspec": {
   "display_name": "HolofoodDatabase",
   "language": "python",
   "name": "holofooddatabase"
  },
  "language_info": {
   "codemirror_mode": {
    "name": "ipython",
    "version": 3
   },
   "file_extension": ".py",
   "mimetype": "text/x-python",
   "name": "python",
   "nbconvert_exporter": "python",
   "pygments_lexer": "ipython3",
   "version": "3.10.3"
  }
 },
 "nbformat": 4,
 "nbformat_minor": 5
}
