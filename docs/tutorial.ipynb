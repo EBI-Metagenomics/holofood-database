{
 "cells": [
  {
   "cell_type": "raw",
   "id": "9218e07f-060a-4d08-b78c-c74e97b9190e",
   "metadata": {},
   "source": [
    "---\n",
    "title: \"Tutorial\"\n",
    "format:\n",
    "  html:\n",
    "    code-fold: false\n",
    "jupyter: python3\n",
    "---"
   ]
  },
  {
   "cell_type": "markdown",
   "id": "c8bf6ee2-4685-48d9-8c18-f927b9cf95df",
   "metadata": {},
   "source": [
    "# A guide to using the HoloFood Data Portal\n",
    "This tutorial showcases the core uses of the Data Portal.\n",
    "There is a solution to each learning objective."
   ]
  },
  {
   "cell_type": "markdown",
   "id": "ccd96a74-81f1-4962-aa6f-8a0e648ec9c0",
   "metadata": {},
   "source": [
    "## Objective 1: Finding samples using the website\n",
    "\n",
    "Open the [HoloFood Data Portal]({{< var portal.root_url >}}).\n",
    "\n",
    "Find all *Salmon* Fatty Acids samples from fish that were treated with Fermented Algae.\n",
    "\n",
    ":::{.callout-tip collapse=\"true\"}\n",
    "### Solution\n",
    "\n",
    "- Click `Salmon samples` in the navigation bar.\n",
    "- Type `fermented algae` into the `Treatment Search` filter next to the table, select `fatty_acids` in the `Sample type` filter, and press `Apply`.\n",
    ":::"
   ]
  },
  {
   "cell_type": "markdown",
   "id": "1c4ae67a-72f3-4553-83e5-92e51d9fbde0",
   "metadata": {},
   "source": [
    "## Objective 2: Find animal metadata for a specific sample\n",
    "\n",
    "- Find the *Chicken* sample `SAMEA7025251`.\n",
    "- From the sample's host-animal metadata, find the average daily feed intake of chicken's in that pen in the first trial week.\n",
    "\n",
    ":::{.callout-tip collapse=\"true\"}\n",
    "### Solution\n",
    "- Search for `SAMEA7025251` in the main search box at the top of every page.\n",
    "- From the sample's detail page, follow the link to the sample's host animal `SAMEA112905290`\n",
    "- Open the `Animal metadata` section of the animal detail page.\n",
    "- Switch to the `Pen` tab of metadata.\n",
    "- Find the `Average Daily Feed intake: Day 00 - 07` row (measurement = 18.59g).\n",
    ":::"
   ]
  },
  {
   "cell_type": "markdown",
   "id": "7a3b1743-3680-4d67-a012-46d52a74cf8f",
   "metadata": {},
   "source": [
    "## Objective 3: Find functional information for a sample in MGnify\n",
    "\n",
    "- Find chicken sample `SAMEA7817177` on the data portal\n",
    "- Follow the links to the sample's metagenomics analyses on MGnify\n",
    "- What is `SAMEA7817177`'s top Pfam entry (from MGnify's functional analysis of it)?\n",
    "\n",
    ":::{.callout-tip collapse=\"true\"}\n",
    "### Solution\n",
    "\n",
    "- Type `SAMEA7817177` into the `Search data and docs` search bar at the top of the data portal\n",
    "- The sample detail page for `SAMEA7817177` will open directly\n",
    "- Open the `Metagenomics` section of the sample detail page.\n",
    "- Click the assembly analysis in the table\n",
    "- On MGnify, switch to the `Functional analysis` tab.\n",
    "- Find the `Pfam` subtab\n",
    "- Find the first row of the table (the biggest bar in the bar chart)\n",
    "- It is `Reverse transcriptase` [PF07727](https://pfam.xfam.org/family/PF07727)\n",
    ":::"
   ]
  },
  {
   "cell_type": "markdown",
   "id": "08c62fed-a279-4a2b-a099-f1c6d71e6170",
   "metadata": {},
   "source": [
    "## Objective 4: Find MAG metadata from MGnify\n",
    "\n",
    "- Find the `HoloFood Chicken Gut v1` genome `MGYG000308389`\n",
    "- Using the genome's species representative, find the genome's most prevalent [COG category](https://www.ncbi.nlm.nih.gov/research/cog) with a known function.\n",
    "\n",
    ":::{.callout-tip collapse=\"true\"}\n",
    "### Solution\n",
    "\n",
    "- Click `Genomes` in the navigation bar.\n",
    "- Select the `HoloFood Chicken Gut v1` catalogue in the sub navigation\n",
    "- Type `MGYG000308389` in the `Accession contains` filter.\n",
    "    - *You could also jump straight to here by entering the accession in the global search box*\n",
    "- Click `View on MGnify` in the single row of the table.\n",
    "- On the MGnify page that opens, switch to the `COG analysis` sub-tab.\n",
    "- Look at the bar chart. Ignoring cataegory `S (Function unknown)`, category `K (Transcription)` is the most prevalent COG category in this genome.\n",
    ":::"
   ]
  },
  {
   "cell_type": "markdown",
   "id": "7466e6d1-8f05-4bf8-a6f6-a42cbcf8f992",
   "metadata": {},
   "source": [
    "## Objective 5: Find viral fragments within a MAG\n",
    "\n",
    ":::{.callout-caution}\n",
    "### Data coming soon\n",
    "Viral catalogues are not yet available for HoloFood, however viral annotations are available for the genomes in MGnify.\n",
    ":::\n"
   ]
  },
  {
   "cell_type": "markdown",
   "id": "b58ea85d-5fcb-43fd-8a40-a20593f9293f",
   "metadata": {},
   "source": [
    "## Objective 6: Compare metadata between samples, using TSV files in a Spreadsheet\n",
    "\n",
    "- Find chicken animal `SAMEA112905066` on the data portal, and download the sample's metadata TSV file\n",
    "- Do the same for animal `SAMEA112904813`\n",
    "- Notice that these samples are chickens in different pens, fed different diets (`Control`, and `Probiotic`respectively)\n",
    "- Pick a spreadsheet application like [Google Sheets](https://sheets.google.com), Excel, or LibreOffice Calc, (or write some code)\n",
    "- Make a plot comparing the average weight gain of chickens in each of the two pens over time"
   ]
  },
  {
   "cell_type": "markdown",
   "id": "8350d702-a7cb-4e6b-937c-aac784854c0d",
   "metadata": {},
   "source": [
    ":::{.callout-tip collapse=\"true\"}\n",
    "### Solution\n",
    "\n",
    "- Open the `Chicken samples` navigation item\n",
    "- Type `SAMEA14099422` into the `Accession contains` filter and press `Apply`\n",
    "- Click `View` in the only row in the table\n",
    "- Scroll down and open the `Sample metadata` section\n",
    "- Press `Download all as TSV`\n",
    "- Rename the downloaded file (`metadata.tsv`) to something useful like `control.tsv`\n",
    "- Repeat the previous steps for `SAMEA7025235`, getting to a file called e.g. `probiotic.tsv`\n",
    "- Open/import both files in your spreadsheet application\n",
    "- Find the rows labelled `Average body weight at day 00.....35`\n",
    "- Copy and paste the rows from each sheet next to each other\n",
    "- In Google Sheets, press `Insert > Chart` (or similar in other applications)\n",
    "\n",
    "![Screenshot of spreadsheet chart comparing average weight of chickens in two pens fed Control and Probiotic diets respectively](img/tutorial/weight-chart.png)\n",
    "\n",
    ":::"
   ]
  },
  {
   "cell_type": "markdown",
   "id": "cdc7c781-b9aa-42c5-8fd5-9cc7ed8fea95",
   "metadata": {},
   "source": [
    "## Objective 7: Use Python to analyse data from the API\n",
    "\n",
    ":::{.callout-note}\n",
    "### Coding required\n",
    "This objective takes a lot longer than the others – it involves coding and the API.\n",
    ":::\n",
    "\n",
    ":::{.callout-tip}\n",
    "### Packages required\n",
    "```bash\n",
    "pip install requests pandas matplotlib\n",
    "```\n",
    ":::\n",
    "\n",
    "- Use the [API]({{< var portal.root_url >}}/api) to fetch a list of HoloFood salmon samples as a Pandas dataframe (the [API docs will be very helpful](api.ipynb#from-python))\n",
    "    - Only fetch salmon samples which were taken for Iodine measurements\n",
    "    - Only fetch salmon samples from tanks SD02 and SD04, which are tanks with treatment of 0.0% and 2.0% concentration seaweed treatment\n",
    "    - Only fetch samples which have a non-empty value for metadata variable `Iodine` (that's the measurement of iodine in the fish feces)\n",
    "- Use the API to fetch sample and animal metadata for each sample and add it to the Pandas dataframe\n",
    "- Make a histogram of the iodine measurements, grouped by the treatment concentration"
   ]
  },
  {
   "cell_type": "markdown",
   "id": "761cf3bb-8070-4d95-b8ec-000cf08dd750",
   "metadata": {},
   "source": [
    "Here's a startpoint for the libraries and base API endpoint you need:"
   ]
  },
  {
   "cell_type": "code",
   "execution_count": 21,
   "id": "0ea2adab-9c04-4aef-b36c-ad46e294b561",
   "metadata": {},
   "outputs": [],
   "source": [
    "samples_endpoint_base = 'https://www.holofooddata.org/api/samples'\n",
    "animals_endpoint_base = 'https://www.holofooddata.org/api/animals'\n",
    "import requests\n",
    "import pandas as pd\n",
    "import matplotlib.pyplot as plt"
   ]
  },
  {
   "cell_type": "markdown",
   "id": "a4540ae8-1db0-4830-8b9f-2b3a9e5c501a",
   "metadata": {},
   "source": [
    "A complete solution is below."
   ]
  },
  {
   "cell_type": "code",
   "execution_count": 81,
   "id": "5e1925d5-cf03-40aa-9497-0a83a6590ec1",
   "metadata": {},
   "outputs": [
    {
     "name": "stdout",
     "output_type": "stream",
     "text": [
      "Fetching page = 1 of tank = 'SD02'\n",
      "Fetching page = 1 of tank = 'SD04'\n"
     ]
    },
    {
     "data": {
      "image/png": "[encoded data removed]",
      "text/plain": [
       "<Figure size 432x288 with 1 Axes>"
      ]
     },
     "metadata": {
      "needs_background": "light"
     },
     "output_type": "display_data"
    }
   ],
   "source": [
    "#|code-fold: true\n",
    "samples_df = None\n",
    "\n",
    "# Fetch samples\n",
    "for tank in ['SD02', 'SD04']:\n",
    "    page = 1\n",
    "    while page:\n",
    "        print(f'Fetching {page = } of {tank = }')\n",
    "        samples_page = requests.get(\n",
    "            f'{samples_endpoint_base}?{page=}&system=salmon&sample_type=iodine&require_metadata_value=Iodine&title={tank}'\n",
    "        ).json()\n",
    "        samples_page_df = pd.json_normalize(\n",
    "            samples_page['items']\n",
    "        )\n",
    "\n",
    "        if samples_df is None:\n",
    "            samples_df = samples_page_df\n",
    "        else:\n",
    "            samples_df = pd.concat(\n",
    "                [\n",
    "                    samples_df,\n",
    "                    samples_page_df\n",
    "                ]\n",
    "            )\n",
    "\n",
    "        page += 1\n",
    "        if len(samples_df) >= samples_page['count']:\n",
    "            page = False\n",
    "\n",
    "def get_iodine_and_sample_time(sample):\n",
    "    \"\"\"Fetch metadata for the sample and its host animal.\"\"\"\n",
    "    sample_detail = requests.get(\n",
    "        f'{samples_endpoint_base}/{sample.accession}'\n",
    "    ).json()\n",
    "    metadata = sample_detail['structured_metadata']\n",
    "    iodine = next(\n",
    "        metadatum \n",
    "        for metadatum in metadata \n",
    "        if metadatum['marker']['name'] == 'Iodine'\n",
    "    )\n",
    "\n",
    "    animal_detail = requests.get(\n",
    "        f'{animals_endpoint_base}/{sample.animal}'\n",
    "    ).json()\n",
    "    metadata = animal_detail['structured_metadata']\n",
    "    timepoint = next(\n",
    "        metadatum\n",
    "        for metadatum in metadata\n",
    "        if metadatum['marker']['name'] == 'Sampling time'\n",
    "    )\n",
    "    treatment_concentration = next(\n",
    "        metadatum\n",
    "        for metadatum in metadata\n",
    "        if metadatum['marker']['name'] == 'Treatment concentration'\n",
    "    )\n",
    "    \n",
    "    iodine_measurement = iodine['measurement']\n",
    "    iodine_clean = iodine_measurement.replace(',', '.')\n",
    "    try:\n",
    "        iodine_float = float(iodine_clean)\n",
    "    except ValueError:\n",
    "        iodine_float = pd.NA\n",
    "    \n",
    "    return iodine_float, timepoint['measurement'], treatment_concentration['measurement']\n",
    "\n",
    "# Consolidate the metadata with the samples\n",
    "metadata = samples_df.apply(\n",
    "    get_iodine_and_sample_time, \n",
    "    axis='columns', \n",
    "    result_type='expand'\n",
    ").rename(\n",
    "    columns={\n",
    "        0: 'iodine_mg_kg_ww', \n",
    "        1: 'sampling_timepoint',\n",
    "        2: 'treatment_concentration'\n",
    "    }\n",
    ")\n",
    "trial_samples = pd.concat(\n",
    "    [\n",
    "        samples_df,\n",
    "        metadata\n",
    "    ],\n",
    "    axis=1\n",
    ")\n",
    "\n",
    "# Drop the Day 0 samples\n",
    "not_pretrial_control = trial_samples[trial_samples.sampling_timepoint != 'Day 0']\n",
    "\n",
    "# Plot iodine measurements\n",
    "not_pretrial_control.groupby('treatment_concentration').iodine_mg_kg_ww.hist(legend=True, bins=5, alpha=0.5)\n",
    "plt.xlabel('Iodine mg/kg ww');"
   ]
  },
  {
   "cell_type": "code",
   "execution_count": null,
   "id": "00d3d11f-ba39-48e2-9d93-a786a41707d5",
   "metadata": {},
   "outputs": [],
   "source": []
  }
 ],
 "metadata": {
  "kernelspec": {
   "display_name": "ds",
   "language": "python",
   "name": "ds"
  },
  "language_info": {
   "codemirror_mode": {
    "name": "ipython",
    "version": 3
   },
   "file_extension": ".py",
   "mimetype": "text/x-python",
   "name": "python",
   "nbconvert_exporter": "python",
   "pygments_lexer": "ipython3",
   "version": "3.9.7"
  }
 },
 "nbformat": 4,
 "nbformat_minor": 5
}
