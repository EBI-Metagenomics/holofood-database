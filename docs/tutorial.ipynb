{
 "cells": [
  {
   "cell_type": "raw",
   "id": "9218e07f-060a-4d08-b78c-c74e97b9190e",
   "metadata": {},
   "source": [
    "---\n",
    "title: \"Tutorial\"\n",
    "format:\n",
    "  html:\n",
    "    code-fold: false\n",
    "jupyter: python3\n",
    "---"
   ]
  },
  {
   "cell_type": "markdown",
   "id": "c8bf6ee2-4685-48d9-8c18-f927b9cf95df",
   "metadata": {},
   "source": [
    "# A guide to using the HoloFood Data Portal"
   ]
  },
  {
   "cell_type": "markdown",
   "id": "ccd96a74-81f1-4962-aa6f-8a0e648ec9c0",
   "metadata": {},
   "source": [
    "## Finding samples using the website"
   ]
  },
  {
   "cell_type": "code",
   "execution_count": 1,
   "id": "3dddd54b-b4ed-4ca0-9808-a2c9d369c560",
   "metadata": {},
   "outputs": [],
   "source": [
    "import requests"
   ]
  },
  {
   "cell_type": "code",
   "execution_count": 3,
   "id": "84117319-9a27-422e-91b9-3103f232959d",
   "metadata": {},
   "outputs": [
    {
     "data": {
      "text/plain": [
       "<Response [200]>"
      ]
     },
     "execution_count": 3,
     "metadata": {},
     "output_type": "execute_result"
    }
   ],
   "source": [
    "requests.get('https://ebi.ac.uk')"
   ]
  },
  {
   "cell_type": "code",
   "execution_count": null,
   "id": "003efca6-086e-425f-87ee-7be27d2d812f",
   "metadata": {},
   "outputs": [],
   "source": []
  }
 ],
 "metadata": {
  "kernelspec": {
   "display_name": "Python 3 (ipykernel)",
   "language": "python",
   "name": "python3"
  },
  "language_info": {
   "codemirror_mode": {
    "name": "ipython",
    "version": 3
   },
   "file_extension": ".py",
   "mimetype": "text/x-python",
   "name": "python",
   "nbconvert_exporter": "python",
   "pygments_lexer": "ipython3",
   "version": "3.9.12"
  }
 },
 "nbformat": 4,
 "nbformat_minor": 5
}
